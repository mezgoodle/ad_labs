{
  "nbformat": 4,
  "nbformat_minor": 0,
  "metadata": {
    "colab": {
      "name": "lab7",
      "provenance": [],
      "collapsed_sections": [],
      "include_colab_link": true
    },
    "kernelspec": {
      "name": "python3",
      "display_name": "Python 3"
    },
    "language_info": {
      "name": "python"
    }
  },
  "cells": [
    {
      "cell_type": "markdown",
      "metadata": {
        "id": "view-in-github",
        "colab_type": "text"
      },
      "source": [
        "<a href=\"https://colab.research.google.com/github/mezgoodle/ad_labs/blob/master/docs/lab7/lab7.ipynb\" target=\"_parent\"><img src=\"https://colab.research.google.com/assets/colab-badge.svg\" alt=\"Open In Colab\"/></a>"
      ]
    },
    {
      "cell_type": "markdown",
      "metadata": {
        "id": "kS385O1puoPA"
      },
      "source": [
        "# Вступ"
      ]
    },
    {
      "cell_type": "markdown",
      "metadata": {
        "id": "onY6XtHrnie0"
      },
      "source": [
        "Написати програму, яка навчає та тестує (при потребі) модель, що виконує завдання відповідно до варіанту, оцінити модель за допомогою відповідних метрик."
      ]
    },
    {
      "cell_type": "markdown",
      "metadata": {
        "id": "YpnRxuKSeEGg"
      },
      "source": [
        "Варіант 7: lab2/possum.csv. Виконати кластерний аналіз на даних, описати результати."
      ]
    },
    {
      "cell_type": "code",
      "metadata": {
        "id": "4sSVPRCngDqk"
      },
      "source": [
        "import pandas as pd\n",
        "import numpy as np\n",
        "import matplotlib.pyplot as plt\n",
        "import seaborn as sns"
      ],
      "execution_count": 1,
      "outputs": []
    },
    {
      "cell_type": "code",
      "source": [
        "from sklearn.model_selection import train_test_split\n",
        "from sklearn.cluster import KMeans\n",
        "from sklearn.pipeline import Pipeline\n",
        "from sklearn.preprocessing import StandardScaler\n",
        "from sklearn.metrics import calinski_harabasz_score, davies_bouldin_score, silhouette_score"
      ],
      "metadata": {
        "id": "BF-mPkff-HWr"
      },
      "execution_count": 2,
      "outputs": []
    },
    {
      "cell_type": "markdown",
      "metadata": {
        "id": "ilgX3U6CosjL"
      },
      "source": [
        "# Дані"
      ]
    },
    {
      "cell_type": "code",
      "metadata": {
        "colab": {
          "base_uri": "https://localhost:8080/",
          "height": 206
        },
        "id": "antjnJS-jyxv",
        "outputId": "55a6b5eb-5b88-44ff-9baa-70a56118e01c"
      },
      "source": [
        "df = pd.read_csv('https://raw.githubusercontent.com/mezgoodle/ad_labs/master/data/possum.csv').dropna()\n",
        "df.head(5)"
      ],
      "execution_count": 3,
      "outputs": [
        {
          "output_type": "execute_result",
          "data": {
            "text/html": [
              "<div>\n",
              "<style scoped>\n",
              "    .dataframe tbody tr th:only-of-type {\n",
              "        vertical-align: middle;\n",
              "    }\n",
              "\n",
              "    .dataframe tbody tr th {\n",
              "        vertical-align: top;\n",
              "    }\n",
              "\n",
              "    .dataframe thead th {\n",
              "        text-align: right;\n",
              "    }\n",
              "</style>\n",
              "<table border=\"1\" class=\"dataframe\">\n",
              "  <thead>\n",
              "    <tr style=\"text-align: right;\">\n",
              "      <th></th>\n",
              "      <th>case</th>\n",
              "      <th>site</th>\n",
              "      <th>Pop</th>\n",
              "      <th>sex</th>\n",
              "      <th>age</th>\n",
              "      <th>hdlngth</th>\n",
              "      <th>skullw</th>\n",
              "      <th>totlngth</th>\n",
              "      <th>taill</th>\n",
              "      <th>footlgth</th>\n",
              "      <th>earconch</th>\n",
              "      <th>eye</th>\n",
              "      <th>chest</th>\n",
              "      <th>belly</th>\n",
              "    </tr>\n",
              "  </thead>\n",
              "  <tbody>\n",
              "    <tr>\n",
              "      <th>0</th>\n",
              "      <td>1</td>\n",
              "      <td>1</td>\n",
              "      <td>Vic</td>\n",
              "      <td>m</td>\n",
              "      <td>8.0</td>\n",
              "      <td>94.1</td>\n",
              "      <td>60.4</td>\n",
              "      <td>89.0</td>\n",
              "      <td>36.0</td>\n",
              "      <td>74.5</td>\n",
              "      <td>54.5</td>\n",
              "      <td>15.2</td>\n",
              "      <td>28.0</td>\n",
              "      <td>36.0</td>\n",
              "    </tr>\n",
              "    <tr>\n",
              "      <th>1</th>\n",
              "      <td>2</td>\n",
              "      <td>1</td>\n",
              "      <td>Vic</td>\n",
              "      <td>f</td>\n",
              "      <td>6.0</td>\n",
              "      <td>92.5</td>\n",
              "      <td>57.6</td>\n",
              "      <td>91.5</td>\n",
              "      <td>36.5</td>\n",
              "      <td>72.5</td>\n",
              "      <td>51.2</td>\n",
              "      <td>16.0</td>\n",
              "      <td>28.5</td>\n",
              "      <td>33.0</td>\n",
              "    </tr>\n",
              "    <tr>\n",
              "      <th>2</th>\n",
              "      <td>3</td>\n",
              "      <td>1</td>\n",
              "      <td>Vic</td>\n",
              "      <td>f</td>\n",
              "      <td>6.0</td>\n",
              "      <td>94.0</td>\n",
              "      <td>60.0</td>\n",
              "      <td>95.5</td>\n",
              "      <td>39.0</td>\n",
              "      <td>75.4</td>\n",
              "      <td>51.9</td>\n",
              "      <td>15.5</td>\n",
              "      <td>30.0</td>\n",
              "      <td>34.0</td>\n",
              "    </tr>\n",
              "    <tr>\n",
              "      <th>3</th>\n",
              "      <td>4</td>\n",
              "      <td>1</td>\n",
              "      <td>Vic</td>\n",
              "      <td>f</td>\n",
              "      <td>6.0</td>\n",
              "      <td>93.2</td>\n",
              "      <td>57.1</td>\n",
              "      <td>92.0</td>\n",
              "      <td>38.0</td>\n",
              "      <td>76.1</td>\n",
              "      <td>52.2</td>\n",
              "      <td>15.2</td>\n",
              "      <td>28.0</td>\n",
              "      <td>34.0</td>\n",
              "    </tr>\n",
              "    <tr>\n",
              "      <th>4</th>\n",
              "      <td>5</td>\n",
              "      <td>1</td>\n",
              "      <td>Vic</td>\n",
              "      <td>f</td>\n",
              "      <td>2.0</td>\n",
              "      <td>91.5</td>\n",
              "      <td>56.3</td>\n",
              "      <td>85.5</td>\n",
              "      <td>36.0</td>\n",
              "      <td>71.0</td>\n",
              "      <td>53.2</td>\n",
              "      <td>15.1</td>\n",
              "      <td>28.5</td>\n",
              "      <td>33.0</td>\n",
              "    </tr>\n",
              "  </tbody>\n",
              "</table>\n",
              "</div>"
            ],
            "text/plain": [
              "   case  site  Pop sex  age  ...  footlgth  earconch   eye  chest  belly\n",
              "0     1     1  Vic   m  8.0  ...      74.5      54.5  15.2   28.0   36.0\n",
              "1     2     1  Vic   f  6.0  ...      72.5      51.2  16.0   28.5   33.0\n",
              "2     3     1  Vic   f  6.0  ...      75.4      51.9  15.5   30.0   34.0\n",
              "3     4     1  Vic   f  6.0  ...      76.1      52.2  15.2   28.0   34.0\n",
              "4     5     1  Vic   f  2.0  ...      71.0      53.2  15.1   28.5   33.0\n",
              "\n",
              "[5 rows x 14 columns]"
            ]
          },
          "metadata": {},
          "execution_count": 3
        }
      ]
    },
    {
      "cell_type": "code",
      "source": [
        "df.info()"
      ],
      "metadata": {
        "colab": {
          "base_uri": "https://localhost:8080/"
        },
        "id": "ji-ipeoxsdTN",
        "outputId": "371d73b5-2850-4c9c-c763-1ddd82c01070"
      },
      "execution_count": 4,
      "outputs": [
        {
          "output_type": "stream",
          "name": "stdout",
          "text": [
            "<class 'pandas.core.frame.DataFrame'>\n",
            "Int64Index: 101 entries, 0 to 103\n",
            "Data columns (total 14 columns):\n",
            " #   Column    Non-Null Count  Dtype  \n",
            "---  ------    --------------  -----  \n",
            " 0   case      101 non-null    int64  \n",
            " 1   site      101 non-null    int64  \n",
            " 2   Pop       101 non-null    object \n",
            " 3   sex       101 non-null    object \n",
            " 4   age       101 non-null    float64\n",
            " 5   hdlngth   101 non-null    float64\n",
            " 6   skullw    101 non-null    float64\n",
            " 7   totlngth  101 non-null    float64\n",
            " 8   taill     101 non-null    float64\n",
            " 9   footlgth  101 non-null    float64\n",
            " 10  earconch  101 non-null    float64\n",
            " 11  eye       101 non-null    float64\n",
            " 12  chest     101 non-null    float64\n",
            " 13  belly     101 non-null    float64\n",
            "dtypes: float64(10), int64(2), object(2)\n",
            "memory usage: 11.8+ KB\n"
          ]
        }
      ]
    },
    {
      "cell_type": "code",
      "source": [
        "df_x = df.drop(columns=['sex', 'Pop'])\n",
        "df_y = df.pop('sex')\n",
        "df_y = df_y.replace(['m', 'f'], [1, 0])"
      ],
      "metadata": {
        "id": "iQi_vzU16yFb"
      },
      "execution_count": 5,
      "outputs": []
    },
    {
      "cell_type": "markdown",
      "source": [
        "# Створення конвеєру"
      ],
      "metadata": {
        "id": "37P0MaZP6gEY"
      }
    },
    {
      "cell_type": "code",
      "source": [
        "pipeline = Pipeline([('scale', StandardScaler()),('kmeans', KMeans(n_clusters=2, random_state=0))])\n",
        "pipeline1 = Pipeline([('scale', StandardScaler()),('kmeans', KMeans(n_clusters=2, random_state=0))])"
      ],
      "metadata": {
        "id": "Bsf7LgZ0qbwR"
      },
      "execution_count": 6,
      "outputs": []
    },
    {
      "cell_type": "code",
      "source": [
        "pipeline.fit(df_x)"
      ],
      "metadata": {
        "colab": {
          "base_uri": "https://localhost:8080/"
        },
        "id": "Bb7M_NjJMDbG",
        "outputId": "5ea9894d-39ff-4944-f817-d8e145756c51"
      },
      "execution_count": 7,
      "outputs": [
        {
          "output_type": "execute_result",
          "data": {
            "text/plain": [
              "Pipeline(steps=[('scale', StandardScaler()),\n",
              "                ('kmeans', KMeans(n_clusters=2, random_state=0))])"
            ]
          },
          "metadata": {},
          "execution_count": 7
        }
      ]
    },
    {
      "cell_type": "code",
      "source": [
        "pred = pipeline.predict(df_x)\n",
        "pred"
      ],
      "metadata": {
        "colab": {
          "base_uri": "https://localhost:8080/"
        },
        "id": "QZTKs7KDOAlU",
        "outputId": "c9e580a9-7a04-43e8-d0bb-f67039b2f9cc"
      },
      "execution_count": 8,
      "outputs": [
        {
          "output_type": "execute_result",
          "data": {
            "text/plain": [
              "array([0, 0, 0, 0, 0, 0, 0, 0, 0, 0, 0, 0, 0, 0, 0, 0, 0, 0, 0, 0, 0, 0,\n",
              "       0, 0, 0, 0, 0, 0, 0, 0, 0, 0, 0, 0, 0, 0, 0, 0, 1, 0, 1, 0, 0, 1,\n",
              "       0, 0, 0, 0, 0, 0, 0, 0, 0, 0, 0, 0, 1, 1, 1, 1, 1, 1, 1, 1, 1, 1,\n",
              "       1, 1, 1, 1, 1, 1, 1, 1, 1, 1, 1, 1, 1, 1, 1, 1, 1, 1, 1, 1, 1, 1,\n",
              "       1, 1, 1, 1, 1, 1, 1, 1, 1, 1, 1, 1, 1], dtype=int32)"
            ]
          },
          "metadata": {},
          "execution_count": 8
        }
      ]
    },
    {
      "cell_type": "markdown",
      "source": [
        "# Оцінка моделі за допомогою метрик"
      ],
      "metadata": {
        "id": "D5G91hio6pOr"
      }
    },
    {
      "cell_type": "code",
      "source": [
        "silhouette_score(df_x, pred)"
      ],
      "metadata": {
        "colab": {
          "base_uri": "https://localhost:8080/"
        },
        "id": "JLdhlo8hMQ2O",
        "outputId": "c25d8f46-7da7-4853-97f8-54c19403542b"
      },
      "execution_count": 9,
      "outputs": [
        {
          "output_type": "execute_result",
          "data": {
            "text/plain": [
              "0.5212538024326965"
            ]
          },
          "metadata": {},
          "execution_count": 9
        }
      ]
    },
    {
      "cell_type": "markdown",
      "source": [
        "Ця метрика повертає значення в діапазоні [-1, 1], де -1 є найгіршим\n",
        "(кластери призначені неправильно), а 1 найкращим; значення\n",
        "поблизу 0 вказують, що кластери перекриваються. Чим вище це\n",
        "число, тим краще визначені (більш відокремлені) кластери"
      ],
      "metadata": {
        "id": "FbL1wb2aQESE"
      }
    },
    {
      "cell_type": "code",
      "source": [
        "calinski_harabasz_score(df_x, pred)"
      ],
      "metadata": {
        "colab": {
          "base_uri": "https://localhost:8080/"
        },
        "id": "d8CJoGGAMk7t",
        "outputId": "5771141c-5b8c-4f50-eec5-25667ee5d973"
      },
      "execution_count": 10,
      "outputs": [
        {
          "output_type": "execute_result",
          "data": {
            "text/plain": [
              "197.11080768651638"
            ]
          },
          "metadata": {},
          "execution_count": 10
        }
      ]
    },
    {
      "cell_type": "markdown",
      "source": [
        "Ще одним показником є оцінка Калінського та Харабаса, або\n",
        "критерій співвідношення дисперсії, який є відношенням дисперсії\n",
        "всередині кластера до дисперсії між кластерами. Вищі значення\n",
        "вказують на краще визначені (більш відокремлені) кластери"
      ],
      "metadata": {
        "id": "xsp_wGB-QXuE"
      }
    },
    {
      "cell_type": "code",
      "source": [
        "davies_bouldin_score(df_x, pred)"
      ],
      "metadata": {
        "colab": {
          "base_uri": "https://localhost:8080/"
        },
        "id": "kYg6r3gtMomE",
        "outputId": "93fca9b0-a3d5-4dca-b322-8019b3959cf7"
      },
      "execution_count": 11,
      "outputs": [
        {
          "output_type": "execute_result",
          "data": {
            "text/plain": [
              "0.6365322458647303"
            ]
          },
          "metadata": {},
          "execution_count": 11
        }
      ]
    },
    {
      "cell_type": "markdown",
      "source": [
        "Це відношення відстаней всередині кластера (відстаней між точками в кластері) до відстаней між кластерами(відстаней між точками в різних кластерах), яке називається оцінкою Девіса-Болдіна. Значення ближчі до нуля вказують на кращі розділи між кластерами"
      ],
      "metadata": {
        "id": "Qij1uvHHQQZa"
      }
    },
    {
      "cell_type": "markdown",
      "source": [
        "# Інше"
      ],
      "metadata": {
        "id": "jfPkdNhq6tiw"
      }
    },
    {
      "cell_type": "code",
      "source": [
        "x_train, x_test, y_train, y_test = train_test_split(df_x, df_y, test_size=0.3)"
      ],
      "metadata": {
        "id": "I-hTrnfUJ98j"
      },
      "execution_count": 12,
      "outputs": []
    },
    {
      "cell_type": "code",
      "source": [
        "pipeline1.fit(x_train, y_train)"
      ],
      "metadata": {
        "colab": {
          "base_uri": "https://localhost:8080/"
        },
        "id": "brbmWOAtsIt_",
        "outputId": "fde9890c-cbd2-4635-f8fb-eb745672c730"
      },
      "execution_count": 13,
      "outputs": [
        {
          "output_type": "execute_result",
          "data": {
            "text/plain": [
              "Pipeline(steps=[('scale', StandardScaler()),\n",
              "                ('kmeans', KMeans(n_clusters=2, random_state=0))])"
            ]
          },
          "metadata": {},
          "execution_count": 13
        }
      ]
    },
    {
      "cell_type": "code",
      "source": [
        "pred = pipeline1.predict(x_test)\n",
        "pred"
      ],
      "metadata": {
        "colab": {
          "base_uri": "https://localhost:8080/"
        },
        "id": "c93rX2fws6i4",
        "outputId": "5e9d5844-0634-4f4d-be73-4e27ef52b3b0"
      },
      "execution_count": 14,
      "outputs": [
        {
          "output_type": "execute_result",
          "data": {
            "text/plain": [
              "array([0, 0, 0, 1, 0, 0, 0, 1, 1, 1, 1, 1, 1, 0, 1, 0, 0, 0, 1, 1, 1, 0,\n",
              "       0, 1, 1, 0, 1, 1, 1, 0, 1], dtype=int32)"
            ]
          },
          "metadata": {},
          "execution_count": 14
        }
      ]
    }
  ]
}