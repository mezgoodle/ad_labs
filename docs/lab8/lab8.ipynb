{
  "nbformat": 4,
  "nbformat_minor": 0,
  "metadata": {
    "colab": {
      "name": "lab8",
      "provenance": [],
      "collapsed_sections": [],
      "include_colab_link": true
    },
    "kernelspec": {
      "name": "python3",
      "display_name": "Python 3"
    },
    "language_info": {
      "name": "python"
    }
  },
  "cells": [
    {
      "cell_type": "markdown",
      "metadata": {
        "id": "view-in-github",
        "colab_type": "text"
      },
      "source": [
        "<a href=\"https://colab.research.google.com/github/mezgoodle/ad_labs/blob/master/docs/lab8/lab8.ipynb\" target=\"_parent\"><img src=\"https://colab.research.google.com/assets/colab-badge.svg\" alt=\"Open In Colab\"/></a>"
      ]
    },
    {
      "cell_type": "markdown",
      "metadata": {
        "id": "kS385O1puoPA"
      },
      "source": [
        "# Вступ"
      ]
    },
    {
      "cell_type": "markdown",
      "metadata": {
        "id": "onY6XtHrnie0"
      },
      "source": [
        "Написати програму, яка навчає та тестує модель, що виконує задачу бінарної класифікації відповідно до варіанту, оцінити модель за допомогою відповідних метрик та спробувати її покращити."
      ]
    },
    {
      "cell_type": "markdown",
      "metadata": {
        "id": "YpnRxuKSeEGg"
      },
      "source": [
        "Варіант 7: lab2/Birthweight.csv. Класифікувати дітей на тих, що мають низьку вагу, та інших, використовуючи будь-які незалежні змінні."
      ]
    },
    {
      "cell_type": "code",
      "metadata": {
        "id": "4sSVPRCngDqk"
      },
      "source": [
        "import pandas as pd\n",
        "import numpy as np\n",
        "import matplotlib.pyplot as plt\n",
        "import seaborn as sns"
      ],
      "execution_count": 10,
      "outputs": []
    },
    {
      "cell_type": "code",
      "source": [
        "from sklearn.model_selection import train_test_split\n",
        "from sklearn.linear_model import LogisticRegression\n",
        "from sklearn.pipeline import Pipeline\n",
        "from sklearn.preprocessing import StandardScaler\n",
        "from sklearn.metrics import confusion_matrix, zero_one_loss, classification_report"
      ],
      "metadata": {
        "id": "BF-mPkff-HWr"
      },
      "execution_count": 32,
      "outputs": []
    },
    {
      "cell_type": "markdown",
      "metadata": {
        "id": "ilgX3U6CosjL"
      },
      "source": [
        "# Дані"
      ]
    },
    {
      "cell_type": "code",
      "metadata": {
        "colab": {
          "base_uri": "https://localhost:8080/",
          "height": 206
        },
        "id": "antjnJS-jyxv",
        "outputId": "a9c5a02c-95ca-4da0-e3b5-173d818806c7"
      },
      "source": [
        "df = pd.read_csv('https://raw.githubusercontent.com/mezgoodle/ad_labs/master/data/Birthweight.csv')\n",
        "df.head(5)"
      ],
      "execution_count": 12,
      "outputs": [
        {
          "output_type": "execute_result",
          "data": {
            "text/html": [
              "<div>\n",
              "<style scoped>\n",
              "    .dataframe tbody tr th:only-of-type {\n",
              "        vertical-align: middle;\n",
              "    }\n",
              "\n",
              "    .dataframe tbody tr th {\n",
              "        vertical-align: top;\n",
              "    }\n",
              "\n",
              "    .dataframe thead th {\n",
              "        text-align: right;\n",
              "    }\n",
              "</style>\n",
              "<table border=\"1\" class=\"dataframe\">\n",
              "  <thead>\n",
              "    <tr style=\"text-align: right;\">\n",
              "      <th></th>\n",
              "      <th>ID</th>\n",
              "      <th>Length</th>\n",
              "      <th>Birthweight</th>\n",
              "      <th>Headcirc</th>\n",
              "      <th>Gestation</th>\n",
              "      <th>smoker</th>\n",
              "      <th>mage</th>\n",
              "      <th>mnocig</th>\n",
              "      <th>mheight</th>\n",
              "      <th>mppwt</th>\n",
              "      <th>fage</th>\n",
              "      <th>fedyrs</th>\n",
              "      <th>fnocig</th>\n",
              "      <th>fheight</th>\n",
              "      <th>lowbwt</th>\n",
              "      <th>mage35</th>\n",
              "    </tr>\n",
              "  </thead>\n",
              "  <tbody>\n",
              "    <tr>\n",
              "      <th>0</th>\n",
              "      <td>1360</td>\n",
              "      <td>56</td>\n",
              "      <td>4.55</td>\n",
              "      <td>34</td>\n",
              "      <td>44</td>\n",
              "      <td>0</td>\n",
              "      <td>20</td>\n",
              "      <td>0</td>\n",
              "      <td>162</td>\n",
              "      <td>57</td>\n",
              "      <td>23</td>\n",
              "      <td>10</td>\n",
              "      <td>35</td>\n",
              "      <td>179</td>\n",
              "      <td>0</td>\n",
              "      <td>0</td>\n",
              "    </tr>\n",
              "    <tr>\n",
              "      <th>1</th>\n",
              "      <td>1016</td>\n",
              "      <td>53</td>\n",
              "      <td>4.32</td>\n",
              "      <td>36</td>\n",
              "      <td>40</td>\n",
              "      <td>0</td>\n",
              "      <td>19</td>\n",
              "      <td>0</td>\n",
              "      <td>171</td>\n",
              "      <td>62</td>\n",
              "      <td>19</td>\n",
              "      <td>12</td>\n",
              "      <td>0</td>\n",
              "      <td>183</td>\n",
              "      <td>0</td>\n",
              "      <td>0</td>\n",
              "    </tr>\n",
              "    <tr>\n",
              "      <th>2</th>\n",
              "      <td>462</td>\n",
              "      <td>58</td>\n",
              "      <td>4.10</td>\n",
              "      <td>39</td>\n",
              "      <td>41</td>\n",
              "      <td>0</td>\n",
              "      <td>35</td>\n",
              "      <td>0</td>\n",
              "      <td>172</td>\n",
              "      <td>58</td>\n",
              "      <td>31</td>\n",
              "      <td>16</td>\n",
              "      <td>25</td>\n",
              "      <td>185</td>\n",
              "      <td>0</td>\n",
              "      <td>1</td>\n",
              "    </tr>\n",
              "    <tr>\n",
              "      <th>3</th>\n",
              "      <td>1187</td>\n",
              "      <td>53</td>\n",
              "      <td>4.07</td>\n",
              "      <td>38</td>\n",
              "      <td>44</td>\n",
              "      <td>0</td>\n",
              "      <td>20</td>\n",
              "      <td>0</td>\n",
              "      <td>174</td>\n",
              "      <td>68</td>\n",
              "      <td>26</td>\n",
              "      <td>14</td>\n",
              "      <td>25</td>\n",
              "      <td>189</td>\n",
              "      <td>0</td>\n",
              "      <td>0</td>\n",
              "    </tr>\n",
              "    <tr>\n",
              "      <th>4</th>\n",
              "      <td>553</td>\n",
              "      <td>54</td>\n",
              "      <td>3.94</td>\n",
              "      <td>37</td>\n",
              "      <td>42</td>\n",
              "      <td>0</td>\n",
              "      <td>24</td>\n",
              "      <td>0</td>\n",
              "      <td>175</td>\n",
              "      <td>66</td>\n",
              "      <td>30</td>\n",
              "      <td>12</td>\n",
              "      <td>0</td>\n",
              "      <td>184</td>\n",
              "      <td>0</td>\n",
              "      <td>0</td>\n",
              "    </tr>\n",
              "  </tbody>\n",
              "</table>\n",
              "</div>"
            ],
            "text/plain": [
              "     ID  Length  Birthweight  Headcirc  ...  fnocig  fheight  lowbwt  mage35\n",
              "0  1360      56         4.55        34  ...      35      179       0       0\n",
              "1  1016      53         4.32        36  ...       0      183       0       0\n",
              "2   462      58         4.10        39  ...      25      185       0       1\n",
              "3  1187      53         4.07        38  ...      25      189       0       0\n",
              "4   553      54         3.94        37  ...       0      184       0       0\n",
              "\n",
              "[5 rows x 16 columns]"
            ]
          },
          "metadata": {},
          "execution_count": 12
        }
      ]
    },
    {
      "cell_type": "code",
      "source": [
        "df.info()"
      ],
      "metadata": {
        "colab": {
          "base_uri": "https://localhost:8080/"
        },
        "id": "ji-ipeoxsdTN",
        "outputId": "63dd290d-2f6c-45b9-aa3a-da692753fd48"
      },
      "execution_count": 13,
      "outputs": [
        {
          "output_type": "stream",
          "name": "stdout",
          "text": [
            "<class 'pandas.core.frame.DataFrame'>\n",
            "RangeIndex: 42 entries, 0 to 41\n",
            "Data columns (total 16 columns):\n",
            " #   Column       Non-Null Count  Dtype  \n",
            "---  ------       --------------  -----  \n",
            " 0   ID           42 non-null     int64  \n",
            " 1   Length       42 non-null     int64  \n",
            " 2   Birthweight  42 non-null     float64\n",
            " 3   Headcirc     42 non-null     int64  \n",
            " 4   Gestation    42 non-null     int64  \n",
            " 5   smoker       42 non-null     int64  \n",
            " 6   mage         42 non-null     int64  \n",
            " 7   mnocig       42 non-null     int64  \n",
            " 8   mheight      42 non-null     int64  \n",
            " 9   mppwt        42 non-null     int64  \n",
            " 10  fage         42 non-null     int64  \n",
            " 11  fedyrs       42 non-null     int64  \n",
            " 12  fnocig       42 non-null     int64  \n",
            " 13  fheight      42 non-null     int64  \n",
            " 14  lowbwt       42 non-null     int64  \n",
            " 15  mage35       42 non-null     int64  \n",
            "dtypes: float64(1), int64(15)\n",
            "memory usage: 5.4 KB\n"
          ]
        }
      ]
    },
    {
      "cell_type": "code",
      "source": [
        "df.describe().T"
      ],
      "metadata": {
        "colab": {
          "base_uri": "https://localhost:8080/",
          "height": 551
        },
        "id": "WZnPR89Zc3Rk",
        "outputId": "63b02777-b6be-4e4c-bb47-8585b3a56a56"
      },
      "execution_count": 14,
      "outputs": [
        {
          "output_type": "execute_result",
          "data": {
            "text/html": [
              "<div>\n",
              "<style scoped>\n",
              "    .dataframe tbody tr th:only-of-type {\n",
              "        vertical-align: middle;\n",
              "    }\n",
              "\n",
              "    .dataframe tbody tr th {\n",
              "        vertical-align: top;\n",
              "    }\n",
              "\n",
              "    .dataframe thead th {\n",
              "        text-align: right;\n",
              "    }\n",
              "</style>\n",
              "<table border=\"1\" class=\"dataframe\">\n",
              "  <thead>\n",
              "    <tr style=\"text-align: right;\">\n",
              "      <th></th>\n",
              "      <th>count</th>\n",
              "      <th>mean</th>\n",
              "      <th>std</th>\n",
              "      <th>min</th>\n",
              "      <th>25%</th>\n",
              "      <th>50%</th>\n",
              "      <th>75%</th>\n",
              "      <th>max</th>\n",
              "    </tr>\n",
              "  </thead>\n",
              "  <tbody>\n",
              "    <tr>\n",
              "      <th>ID</th>\n",
              "      <td>42.0</td>\n",
              "      <td>894.071429</td>\n",
              "      <td>467.616186</td>\n",
              "      <td>27.00</td>\n",
              "      <td>537.25</td>\n",
              "      <td>821.000</td>\n",
              "      <td>1269.5000</td>\n",
              "      <td>1764.00</td>\n",
              "    </tr>\n",
              "    <tr>\n",
              "      <th>Length</th>\n",
              "      <td>42.0</td>\n",
              "      <td>51.333333</td>\n",
              "      <td>2.935624</td>\n",
              "      <td>43.00</td>\n",
              "      <td>50.00</td>\n",
              "      <td>52.000</td>\n",
              "      <td>53.0000</td>\n",
              "      <td>58.00</td>\n",
              "    </tr>\n",
              "    <tr>\n",
              "      <th>Birthweight</th>\n",
              "      <td>42.0</td>\n",
              "      <td>3.312857</td>\n",
              "      <td>0.603895</td>\n",
              "      <td>1.92</td>\n",
              "      <td>2.94</td>\n",
              "      <td>3.295</td>\n",
              "      <td>3.6475</td>\n",
              "      <td>4.57</td>\n",
              "    </tr>\n",
              "    <tr>\n",
              "      <th>Headcirc</th>\n",
              "      <td>42.0</td>\n",
              "      <td>34.595238</td>\n",
              "      <td>2.399792</td>\n",
              "      <td>30.00</td>\n",
              "      <td>33.00</td>\n",
              "      <td>34.000</td>\n",
              "      <td>36.0000</td>\n",
              "      <td>39.00</td>\n",
              "    </tr>\n",
              "    <tr>\n",
              "      <th>Gestation</th>\n",
              "      <td>42.0</td>\n",
              "      <td>39.190476</td>\n",
              "      <td>2.643336</td>\n",
              "      <td>33.00</td>\n",
              "      <td>38.00</td>\n",
              "      <td>39.500</td>\n",
              "      <td>41.0000</td>\n",
              "      <td>45.00</td>\n",
              "    </tr>\n",
              "    <tr>\n",
              "      <th>smoker</th>\n",
              "      <td>42.0</td>\n",
              "      <td>0.523810</td>\n",
              "      <td>0.505487</td>\n",
              "      <td>0.00</td>\n",
              "      <td>0.00</td>\n",
              "      <td>1.000</td>\n",
              "      <td>1.0000</td>\n",
              "      <td>1.00</td>\n",
              "    </tr>\n",
              "    <tr>\n",
              "      <th>mage</th>\n",
              "      <td>42.0</td>\n",
              "      <td>25.547619</td>\n",
              "      <td>5.666342</td>\n",
              "      <td>18.00</td>\n",
              "      <td>20.25</td>\n",
              "      <td>24.000</td>\n",
              "      <td>29.0000</td>\n",
              "      <td>41.00</td>\n",
              "    </tr>\n",
              "    <tr>\n",
              "      <th>mnocig</th>\n",
              "      <td>42.0</td>\n",
              "      <td>9.428571</td>\n",
              "      <td>12.511737</td>\n",
              "      <td>0.00</td>\n",
              "      <td>0.00</td>\n",
              "      <td>4.500</td>\n",
              "      <td>15.7500</td>\n",
              "      <td>50.00</td>\n",
              "    </tr>\n",
              "    <tr>\n",
              "      <th>mheight</th>\n",
              "      <td>42.0</td>\n",
              "      <td>164.452381</td>\n",
              "      <td>6.504041</td>\n",
              "      <td>149.00</td>\n",
              "      <td>161.00</td>\n",
              "      <td>164.500</td>\n",
              "      <td>169.5000</td>\n",
              "      <td>181.00</td>\n",
              "    </tr>\n",
              "    <tr>\n",
              "      <th>mppwt</th>\n",
              "      <td>42.0</td>\n",
              "      <td>57.500000</td>\n",
              "      <td>7.198408</td>\n",
              "      <td>45.00</td>\n",
              "      <td>52.25</td>\n",
              "      <td>57.000</td>\n",
              "      <td>62.0000</td>\n",
              "      <td>78.00</td>\n",
              "    </tr>\n",
              "    <tr>\n",
              "      <th>fage</th>\n",
              "      <td>42.0</td>\n",
              "      <td>28.904762</td>\n",
              "      <td>6.863866</td>\n",
              "      <td>19.00</td>\n",
              "      <td>23.00</td>\n",
              "      <td>29.500</td>\n",
              "      <td>32.0000</td>\n",
              "      <td>46.00</td>\n",
              "    </tr>\n",
              "    <tr>\n",
              "      <th>fedyrs</th>\n",
              "      <td>42.0</td>\n",
              "      <td>13.666667</td>\n",
              "      <td>2.160247</td>\n",
              "      <td>10.00</td>\n",
              "      <td>12.00</td>\n",
              "      <td>14.000</td>\n",
              "      <td>16.0000</td>\n",
              "      <td>16.00</td>\n",
              "    </tr>\n",
              "    <tr>\n",
              "      <th>fnocig</th>\n",
              "      <td>42.0</td>\n",
              "      <td>17.190476</td>\n",
              "      <td>17.308165</td>\n",
              "      <td>0.00</td>\n",
              "      <td>0.00</td>\n",
              "      <td>18.500</td>\n",
              "      <td>25.0000</td>\n",
              "      <td>50.00</td>\n",
              "    </tr>\n",
              "    <tr>\n",
              "      <th>fheight</th>\n",
              "      <td>42.0</td>\n",
              "      <td>180.500000</td>\n",
              "      <td>6.978189</td>\n",
              "      <td>169.00</td>\n",
              "      <td>175.25</td>\n",
              "      <td>180.500</td>\n",
              "      <td>184.7500</td>\n",
              "      <td>200.00</td>\n",
              "    </tr>\n",
              "    <tr>\n",
              "      <th>lowbwt</th>\n",
              "      <td>42.0</td>\n",
              "      <td>0.142857</td>\n",
              "      <td>0.354169</td>\n",
              "      <td>0.00</td>\n",
              "      <td>0.00</td>\n",
              "      <td>0.000</td>\n",
              "      <td>0.0000</td>\n",
              "      <td>1.00</td>\n",
              "    </tr>\n",
              "    <tr>\n",
              "      <th>mage35</th>\n",
              "      <td>42.0</td>\n",
              "      <td>0.095238</td>\n",
              "      <td>0.297102</td>\n",
              "      <td>0.00</td>\n",
              "      <td>0.00</td>\n",
              "      <td>0.000</td>\n",
              "      <td>0.0000</td>\n",
              "      <td>1.00</td>\n",
              "    </tr>\n",
              "  </tbody>\n",
              "</table>\n",
              "</div>"
            ],
            "text/plain": [
              "             count        mean         std  ...      50%        75%      max\n",
              "ID            42.0  894.071429  467.616186  ...  821.000  1269.5000  1764.00\n",
              "Length        42.0   51.333333    2.935624  ...   52.000    53.0000    58.00\n",
              "Birthweight   42.0    3.312857    0.603895  ...    3.295     3.6475     4.57\n",
              "Headcirc      42.0   34.595238    2.399792  ...   34.000    36.0000    39.00\n",
              "Gestation     42.0   39.190476    2.643336  ...   39.500    41.0000    45.00\n",
              "smoker        42.0    0.523810    0.505487  ...    1.000     1.0000     1.00\n",
              "mage          42.0   25.547619    5.666342  ...   24.000    29.0000    41.00\n",
              "mnocig        42.0    9.428571   12.511737  ...    4.500    15.7500    50.00\n",
              "mheight       42.0  164.452381    6.504041  ...  164.500   169.5000   181.00\n",
              "mppwt         42.0   57.500000    7.198408  ...   57.000    62.0000    78.00\n",
              "fage          42.0   28.904762    6.863866  ...   29.500    32.0000    46.00\n",
              "fedyrs        42.0   13.666667    2.160247  ...   14.000    16.0000    16.00\n",
              "fnocig        42.0   17.190476   17.308165  ...   18.500    25.0000    50.00\n",
              "fheight       42.0  180.500000    6.978189  ...  180.500   184.7500   200.00\n",
              "lowbwt        42.0    0.142857    0.354169  ...    0.000     0.0000     1.00\n",
              "mage35        42.0    0.095238    0.297102  ...    0.000     0.0000     1.00\n",
              "\n",
              "[16 rows x 8 columns]"
            ]
          },
          "metadata": {},
          "execution_count": 14
        }
      ]
    },
    {
      "cell_type": "code",
      "source": [
        "df_x = df.drop(columns='lowbwt')\n",
        "df_y = df.pop('lowbwt')"
      ],
      "metadata": {
        "id": "1P7BZYYFc_c2"
      },
      "execution_count": 15,
      "outputs": []
    },
    {
      "cell_type": "code",
      "source": [
        "x_train, x_test, y_train, y_test = train_test_split(df_x, df_y, test_size=0.3, random_state=0,stratify=df_y)"
      ],
      "metadata": {
        "id": "8JC1Xp2adLCk"
      },
      "execution_count": 17,
      "outputs": []
    },
    {
      "cell_type": "code",
      "source": [
        "pipeline = Pipeline([('scale', StandardScaler()),('lr', LogisticRegression(class_weight='balanced', random_state=0))])"
      ],
      "metadata": {
        "id": "2UBndSO5db-0"
      },
      "execution_count": 18,
      "outputs": []
    },
    {
      "cell_type": "code",
      "source": [
        "pipeline.fit(x_train, y_train)"
      ],
      "metadata": {
        "colab": {
          "base_uri": "https://localhost:8080/"
        },
        "id": "K_NTavSLdjJL",
        "outputId": "1fac33d4-79e8-4b45-a850-640e19234899"
      },
      "execution_count": 19,
      "outputs": [
        {
          "output_type": "execute_result",
          "data": {
            "text/plain": [
              "Pipeline(steps=[('scale', StandardScaler()),\n",
              "                ('lr',\n",
              "                 LogisticRegression(class_weight='balanced', random_state=0))])"
            ]
          },
          "metadata": {},
          "execution_count": 19
        }
      ]
    },
    {
      "cell_type": "code",
      "source": [
        "pred = pipeline.predict(x_test)"
      ],
      "metadata": {
        "id": "AbzUnLXDdm_O"
      },
      "execution_count": 20,
      "outputs": []
    },
    {
      "cell_type": "markdown",
      "source": [
        "Матриця невідповідностей\n",
        "\n",
        "|  | Істинна належність | Позитивний | Негативний |\n",
        "| --- | --- |  |  |\n",
        "| Результати класифікації |  |  |  |\n",
        "| Позитивний |  | TP | FP |\n",
        "| Негативний |  | TN | FN |\n",
        "\n",
        "де: \n",
        "* TP (True Positive) — кількість правильно визначених «позитивних» об’єктів;\n",
        "* FP (False Positive) — кількість «негативних» об’єктів, які хибно класифіковані як «позитивні»;\n",
        "* FN (False Negative) — кількість «позитивних» об’єктів, які хибно класифіковані як «негативні»; \n",
        "* TN (True Negative) — кількість правильно визначених «негативних» об’єктів."
      ],
      "metadata": {
        "id": "pngUvPVZePss"
      }
    },
    {
      "cell_type": "code",
      "source": [
        "matrix = confusion_matrix(y_test, pred)\n",
        "sns.heatmap(matrix/np.sum(matrix), annot=True, fmt='.2%', cmap='Blues')"
      ],
      "metadata": {
        "colab": {
          "base_uri": "https://localhost:8080/",
          "height": 282
        },
        "id": "eTtLL-TxfgKo",
        "outputId": "11c6a6b7-3641-48d0-f95c-bb5837b0642d"
      },
      "execution_count": 26,
      "outputs": [
        {
          "output_type": "execute_result",
          "data": {
            "text/plain": [
              "<matplotlib.axes._subplots.AxesSubplot at 0x7f89fef2abd0>"
            ]
          },
          "metadata": {},
          "execution_count": 26
        },
        {
          "output_type": "display_data",
          "data": {
            "image/png": "[encoded data removed]",
            "text/plain": [
              "<Figure size 432x288 with 2 Axes>"
            ]
          },
          "metadata": {
            "needs_background": "light"
          }
        }
      ]
    },
    {
      "cell_type": "code",
      "source": [
        "pipeline.score(x_test, y_test)"
      ],
      "metadata": {
        "colab": {
          "base_uri": "https://localhost:8080/"
        },
        "id": "BLhwNfCrgV1C",
        "outputId": "2571bfc6-cbbb-41e0-8571-67837593f823"
      },
      "execution_count": 27,
      "outputs": [
        {
          "output_type": "execute_result",
          "data": {
            "text/plain": [
              "0.7692307692307693"
            ]
          },
          "metadata": {},
          "execution_count": 27
        }
      ]
    },
    {
      "cell_type": "code",
      "source": [
        "zero_one_loss(y_test, pred)"
      ],
      "metadata": {
        "colab": {
          "base_uri": "https://localhost:8080/"
        },
        "id": "fHFOOdCngfi-",
        "outputId": "af71e221-d37a-4a10-d39c-5bf3e48bdd68"
      },
      "execution_count": 30,
      "outputs": [
        {
          "output_type": "execute_result",
          "data": {
            "text/plain": [
              "0.23076923076923073"
            ]
          },
          "metadata": {},
          "execution_count": 30
        }
      ]
    },
    {
      "cell_type": "code",
      "source": [
        "print(classification_report(y_test, pred))"
      ],
      "metadata": {
        "colab": {
          "base_uri": "https://localhost:8080/"
        },
        "id": "ufTjy0jUgqJs",
        "outputId": "09e3801f-7f65-4c50-fc69-32bfc0a544b1"
      },
      "execution_count": 34,
      "outputs": [
        {
          "output_type": "stream",
          "name": "stdout",
          "text": [
            "              precision    recall  f1-score   support\n",
            "\n",
            "           0       0.83      0.91      0.87        11\n",
            "           1       0.00      0.00      0.00         2\n",
            "\n",
            "    accuracy                           0.77        13\n",
            "   macro avg       0.42      0.45      0.43        13\n",
            "weighted avg       0.71      0.77      0.74        13\n",
            "\n"
          ]
        }
      ]
    }
  ]
}