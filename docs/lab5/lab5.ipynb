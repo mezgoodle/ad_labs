{
  "nbformat": 4,
  "nbformat_minor": 0,
  "metadata": {
    "colab": {
      "name": "lab5",
      "provenance": [],
      "collapsed_sections": [],
      "include_colab_link": true
    },
    "kernelspec": {
      "name": "python3",
      "display_name": "Python 3"
    },
    "language_info": {
      "name": "python"
    }
  },
  "cells": [
    {
      "cell_type": "markdown",
      "metadata": {
        "id": "view-in-github",
        "colab_type": "text"
      },
      "source": [
        "<a href=\"https://colab.research.google.com/github/mezgoodle/ad_labs/blob/master/docs/lab5/lab5.ipynb\" target=\"_parent\"><img src=\"https://colab.research.google.com/assets/colab-badge.svg\" alt=\"Open In Colab\"/></a>"
      ]
    },
    {
      "cell_type": "markdown",
      "metadata": {
        "id": "kS385O1puoPA"
      },
      "source": [
        "# Вступ"
      ]
    },
    {
      "cell_type": "markdown",
      "metadata": {
        "id": "onY6XtHrnie0"
      },
      "source": [
        "Створити програму, яка виконує наступні завдання:\n",
        "\n",
        "1. Створити не менше двох об’єктів TimeSeries, у яких індекси створені за\n",
        "допомогою date_range(). Виділити підмасиви у цих об’єктів. Провести\n",
        "об’єднання об’єктів TimeSeries за допомогою merge_asof().\n",
        "\n",
        "2. Виконати завдання відповідно до варіанту."
      ]
    },
    {
      "cell_type": "markdown",
      "metadata": {
        "id": "YpnRxuKSeEGg"
      },
      "source": [
        "Варіант 7.\n",
        "*Файл Microsoft_Stock.csv.*\n",
        "\n",
        "1. Побудувати графік зміни ціни на час закриття біржі: а) загальний; б)\n",
        "за 2019 рік; в) за вересень 2018 року; г) за листопад 2015 – січень\n",
        "2018; д) за останні два тижня січня 2021-го року.\n",
        "\n",
        "2. Знайти середні значення найбільшої ціни за день а) за 2016 рік; б) за\n",
        "кожний місяць; в) за кожний тиждень першого кварталу 2019 року."
      ]
    },
    {
      "cell_type": "code",
      "metadata": {
        "id": "4sSVPRCngDqk"
      },
      "source": [
        "import pandas as pd\n",
        "import numpy as np\n",
        "import matplotlib.pyplot as plt\n",
        "import seaborn as sns"
      ],
      "execution_count": 65,
      "outputs": []
    },
    {
      "cell_type": "markdown",
      "metadata": {
        "id": "ilgX3U6CosjL"
      },
      "source": [
        "# Дані"
      ]
    },
    {
      "cell_type": "code",
      "metadata": {
        "colab": {
          "base_uri": "https://localhost:8080/",
          "height": 455
        },
        "id": "antjnJS-jyxv",
        "outputId": "10be36ae-8142-4ab0-8d6a-9148d0569124"
      },
      "source": [
        "df = pd.read_csv('https://raw.githubusercontent.com/mezgoodle/ad_labs/master/data/Microsoft_Stock.csv', index_col='Date', parse_dates=True)\n",
        "df"
      ],
      "execution_count": 66,
      "outputs": [
        {
          "output_type": "execute_result",
          "data": {
            "text/html": [
              "<div>\n",
              "<style scoped>\n",
              "    .dataframe tbody tr th:only-of-type {\n",
              "        vertical-align: middle;\n",
              "    }\n",
              "\n",
              "    .dataframe tbody tr th {\n",
              "        vertical-align: top;\n",
              "    }\n",
              "\n",
              "    .dataframe thead th {\n",
              "        text-align: right;\n",
              "    }\n",
              "</style>\n",
              "<table border=\"1\" class=\"dataframe\">\n",
              "  <thead>\n",
              "    <tr style=\"text-align: right;\">\n",
              "      <th></th>\n",
              "      <th>Open</th>\n",
              "      <th>High</th>\n",
              "      <th>Low</th>\n",
              "      <th>Close</th>\n",
              "      <th>Volume</th>\n",
              "    </tr>\n",
              "    <tr>\n",
              "      <th>Date</th>\n",
              "      <th></th>\n",
              "      <th></th>\n",
              "      <th></th>\n",
              "      <th></th>\n",
              "      <th></th>\n",
              "    </tr>\n",
              "  </thead>\n",
              "  <tbody>\n",
              "    <tr>\n",
              "      <th>2015-04-01 16:00:00</th>\n",
              "      <td>40.60</td>\n",
              "      <td>40.76</td>\n",
              "      <td>40.31</td>\n",
              "      <td>40.72</td>\n",
              "      <td>36865322</td>\n",
              "    </tr>\n",
              "    <tr>\n",
              "      <th>2015-04-02 16:00:00</th>\n",
              "      <td>40.66</td>\n",
              "      <td>40.74</td>\n",
              "      <td>40.12</td>\n",
              "      <td>40.29</td>\n",
              "      <td>37487476</td>\n",
              "    </tr>\n",
              "    <tr>\n",
              "      <th>2015-04-06 16:00:00</th>\n",
              "      <td>40.34</td>\n",
              "      <td>41.78</td>\n",
              "      <td>40.18</td>\n",
              "      <td>41.55</td>\n",
              "      <td>39223692</td>\n",
              "    </tr>\n",
              "    <tr>\n",
              "      <th>2015-04-07 16:00:00</th>\n",
              "      <td>41.61</td>\n",
              "      <td>41.91</td>\n",
              "      <td>41.31</td>\n",
              "      <td>41.53</td>\n",
              "      <td>28809375</td>\n",
              "    </tr>\n",
              "    <tr>\n",
              "      <th>2015-04-08 16:00:00</th>\n",
              "      <td>41.48</td>\n",
              "      <td>41.69</td>\n",
              "      <td>41.04</td>\n",
              "      <td>41.42</td>\n",
              "      <td>24753438</td>\n",
              "    </tr>\n",
              "    <tr>\n",
              "      <th>...</th>\n",
              "      <td>...</td>\n",
              "      <td>...</td>\n",
              "      <td>...</td>\n",
              "      <td>...</td>\n",
              "      <td>...</td>\n",
              "    </tr>\n",
              "    <tr>\n",
              "      <th>2021-03-25 16:00:00</th>\n",
              "      <td>235.30</td>\n",
              "      <td>236.94</td>\n",
              "      <td>231.57</td>\n",
              "      <td>232.34</td>\n",
              "      <td>34061853</td>\n",
              "    </tr>\n",
              "    <tr>\n",
              "      <th>2021-03-26 16:00:00</th>\n",
              "      <td>231.55</td>\n",
              "      <td>236.71</td>\n",
              "      <td>231.55</td>\n",
              "      <td>236.48</td>\n",
              "      <td>25479853</td>\n",
              "    </tr>\n",
              "    <tr>\n",
              "      <th>2021-03-29 16:00:00</th>\n",
              "      <td>236.59</td>\n",
              "      <td>236.80</td>\n",
              "      <td>231.88</td>\n",
              "      <td>235.24</td>\n",
              "      <td>25227455</td>\n",
              "    </tr>\n",
              "    <tr>\n",
              "      <th>2021-03-30 16:00:00</th>\n",
              "      <td>233.53</td>\n",
              "      <td>233.85</td>\n",
              "      <td>231.10</td>\n",
              "      <td>231.85</td>\n",
              "      <td>24792012</td>\n",
              "    </tr>\n",
              "    <tr>\n",
              "      <th>2021-03-31 16:00:00</th>\n",
              "      <td>232.91</td>\n",
              "      <td>239.10</td>\n",
              "      <td>232.39</td>\n",
              "      <td>235.77</td>\n",
              "      <td>43623471</td>\n",
              "    </tr>\n",
              "  </tbody>\n",
              "</table>\n",
              "<p>1511 rows × 5 columns</p>\n",
              "</div>"
            ],
            "text/plain": [
              "                       Open    High     Low   Close    Volume\n",
              "Date                                                         \n",
              "2015-04-01 16:00:00   40.60   40.76   40.31   40.72  36865322\n",
              "2015-04-02 16:00:00   40.66   40.74   40.12   40.29  37487476\n",
              "2015-04-06 16:00:00   40.34   41.78   40.18   41.55  39223692\n",
              "2015-04-07 16:00:00   41.61   41.91   41.31   41.53  28809375\n",
              "2015-04-08 16:00:00   41.48   41.69   41.04   41.42  24753438\n",
              "...                     ...     ...     ...     ...       ...\n",
              "2021-03-25 16:00:00  235.30  236.94  231.57  232.34  34061853\n",
              "2021-03-26 16:00:00  231.55  236.71  231.55  236.48  25479853\n",
              "2021-03-29 16:00:00  236.59  236.80  231.88  235.24  25227455\n",
              "2021-03-30 16:00:00  233.53  233.85  231.10  231.85  24792012\n",
              "2021-03-31 16:00:00  232.91  239.10  232.39  235.77  43623471\n",
              "\n",
              "[1511 rows x 5 columns]"
            ]
          },
          "metadata": {},
          "execution_count": 66
        }
      ]
    },
    {
      "cell_type": "code",
      "metadata": {
        "id": "CraxwBfJgNp9",
        "colab": {
          "base_uri": "https://localhost:8080/"
        },
        "outputId": "be82dd66-0afe-4b4f-fcd8-14343d0eb84b"
      },
      "source": [
        "df.info()"
      ],
      "execution_count": 67,
      "outputs": [
        {
          "output_type": "stream",
          "name": "stdout",
          "text": [
            "<class 'pandas.core.frame.DataFrame'>\n",
            "DatetimeIndex: 1511 entries, 2015-04-01 16:00:00 to 2021-03-31 16:00:00\n",
            "Data columns (total 5 columns):\n",
            " #   Column  Non-Null Count  Dtype  \n",
            "---  ------  --------------  -----  \n",
            " 0   Open    1511 non-null   float64\n",
            " 1   High    1511 non-null   float64\n",
            " 2   Low     1511 non-null   float64\n",
            " 3   Close   1511 non-null   float64\n",
            " 4   Volume  1511 non-null   int64  \n",
            "dtypes: float64(4), int64(1)\n",
            "memory usage: 70.8 KB\n"
          ]
        }
      ]
    },
    {
      "cell_type": "code",
      "metadata": {
        "colab": {
          "base_uri": "https://localhost:8080/",
          "height": 206
        },
        "id": "KviuoBx3BVwq",
        "outputId": "696b8c68-2628-43fd-92b0-e8af41fb614f"
      },
      "source": [
        "df.describe().T"
      ],
      "execution_count": 68,
      "outputs": [
        {
          "output_type": "execute_result",
          "data": {
            "text/html": [
              "<div>\n",
              "<style scoped>\n",
              "    .dataframe tbody tr th:only-of-type {\n",
              "        vertical-align: middle;\n",
              "    }\n",
              "\n",
              "    .dataframe tbody tr th {\n",
              "        vertical-align: top;\n",
              "    }\n",
              "\n",
              "    .dataframe thead th {\n",
              "        text-align: right;\n",
              "    }\n",
              "</style>\n",
              "<table border=\"1\" class=\"dataframe\">\n",
              "  <thead>\n",
              "    <tr style=\"text-align: right;\">\n",
              "      <th></th>\n",
              "      <th>count</th>\n",
              "      <th>mean</th>\n",
              "      <th>std</th>\n",
              "      <th>min</th>\n",
              "      <th>25%</th>\n",
              "      <th>50%</th>\n",
              "      <th>75%</th>\n",
              "      <th>max</th>\n",
              "    </tr>\n",
              "  </thead>\n",
              "  <tbody>\n",
              "    <tr>\n",
              "      <th>Open</th>\n",
              "      <td>1511.0</td>\n",
              "      <td>1.073860e+02</td>\n",
              "      <td>5.669133e+01</td>\n",
              "      <td>40.34</td>\n",
              "      <td>5.786000e+01</td>\n",
              "      <td>93.99</td>\n",
              "      <td>1.394400e+02</td>\n",
              "      <td>2.450300e+02</td>\n",
              "    </tr>\n",
              "    <tr>\n",
              "      <th>High</th>\n",
              "      <td>1511.0</td>\n",
              "      <td>1.084375e+02</td>\n",
              "      <td>5.738228e+01</td>\n",
              "      <td>40.74</td>\n",
              "      <td>5.806000e+01</td>\n",
              "      <td>95.10</td>\n",
              "      <td>1.403250e+02</td>\n",
              "      <td>2.461300e+02</td>\n",
              "    </tr>\n",
              "    <tr>\n",
              "      <th>Low</th>\n",
              "      <td>1511.0</td>\n",
              "      <td>1.062945e+02</td>\n",
              "      <td>5.597716e+01</td>\n",
              "      <td>39.72</td>\n",
              "      <td>5.742000e+01</td>\n",
              "      <td>92.92</td>\n",
              "      <td>1.378250e+02</td>\n",
              "      <td>2.429200e+02</td>\n",
              "    </tr>\n",
              "    <tr>\n",
              "      <th>Close</th>\n",
              "      <td>1511.0</td>\n",
              "      <td>1.074221e+02</td>\n",
              "      <td>5.670230e+01</td>\n",
              "      <td>40.29</td>\n",
              "      <td>5.785500e+01</td>\n",
              "      <td>93.86</td>\n",
              "      <td>1.389650e+02</td>\n",
              "      <td>2.449900e+02</td>\n",
              "    </tr>\n",
              "    <tr>\n",
              "      <th>Volume</th>\n",
              "      <td>1511.0</td>\n",
              "      <td>3.019863e+07</td>\n",
              "      <td>1.425266e+07</td>\n",
              "      <td>101612.00</td>\n",
              "      <td>2.136213e+07</td>\n",
              "      <td>26629615.00</td>\n",
              "      <td>3.431962e+07</td>\n",
              "      <td>1.352271e+08</td>\n",
              "    </tr>\n",
              "  </tbody>\n",
              "</table>\n",
              "</div>"
            ],
            "text/plain": [
              "         count          mean  ...           75%           max\n",
              "Open    1511.0  1.073860e+02  ...  1.394400e+02  2.450300e+02\n",
              "High    1511.0  1.084375e+02  ...  1.403250e+02  2.461300e+02\n",
              "Low     1511.0  1.062945e+02  ...  1.378250e+02  2.429200e+02\n",
              "Close   1511.0  1.074221e+02  ...  1.389650e+02  2.449900e+02\n",
              "Volume  1511.0  3.019863e+07  ...  3.431962e+07  1.352271e+08\n",
              "\n",
              "[5 rows x 8 columns]"
            ]
          },
          "metadata": {},
          "execution_count": 68
        }
      ]
    },
    {
      "cell_type": "markdown",
      "metadata": {
        "id": "EOakZA5Uob38"
      },
      "source": [
        "# Перше завдання"
      ]
    },
    {
      "cell_type": "code",
      "metadata": {
        "colab": {
          "base_uri": "https://localhost:8080/"
        },
        "id": "vD_ijj4hlLvt",
        "outputId": "447313be-40e8-4105-935f-00a23f1108ee"
      },
      "source": [
        "date_indexes = pd.date_range('2015-04-01 16:00:00', '2021', freq='3D')\n",
        "date_indexes"
      ],
      "execution_count": 69,
      "outputs": [
        {
          "output_type": "execute_result",
          "data": {
            "text/plain": [
              "DatetimeIndex(['2015-04-01 16:00:00', '2015-04-04 16:00:00',\n",
              "               '2015-04-07 16:00:00', '2015-04-10 16:00:00',\n",
              "               '2015-04-13 16:00:00', '2015-04-16 16:00:00',\n",
              "               '2015-04-19 16:00:00', '2015-04-22 16:00:00',\n",
              "               '2015-04-25 16:00:00', '2015-04-28 16:00:00',\n",
              "               ...\n",
              "               '2020-12-03 16:00:00', '2020-12-06 16:00:00',\n",
              "               '2020-12-09 16:00:00', '2020-12-12 16:00:00',\n",
              "               '2020-12-15 16:00:00', '2020-12-18 16:00:00',\n",
              "               '2020-12-21 16:00:00', '2020-12-24 16:00:00',\n",
              "               '2020-12-27 16:00:00', '2020-12-30 16:00:00'],\n",
              "              dtype='datetime64[ns]', length=701, freq='3D')"
            ]
          },
          "metadata": {},
          "execution_count": 69
        }
      ]
    },
    {
      "cell_type": "code",
      "metadata": {
        "colab": {
          "base_uri": "https://localhost:8080/"
        },
        "id": "T3sYKskWl5Kq",
        "outputId": "73ce7f91-fa32-4888-db4c-79a1294d6b27"
      },
      "source": [
        "open_series = pd.Series(df['Open'], index=date_indexes).fillna(method='ffill')\n",
        "open_series"
      ],
      "execution_count": 70,
      "outputs": [
        {
          "output_type": "execute_result",
          "data": {
            "text/plain": [
              "2015-04-01 16:00:00     40.60\n",
              "2015-04-04 16:00:00     40.60\n",
              "2015-04-07 16:00:00     41.61\n",
              "2015-04-10 16:00:00     41.63\n",
              "2015-04-13 16:00:00     41.40\n",
              "                        ...  \n",
              "2020-12-18 16:00:00    218.59\n",
              "2020-12-21 16:00:00    217.55\n",
              "2020-12-24 16:00:00    217.55\n",
              "2020-12-27 16:00:00    217.55\n",
              "2020-12-30 16:00:00    225.23\n",
              "Freq: 3D, Name: Open, Length: 701, dtype: float64"
            ]
          },
          "metadata": {},
          "execution_count": 70
        }
      ]
    },
    {
      "cell_type": "code",
      "metadata": {
        "colab": {
          "base_uri": "https://localhost:8080/"
        },
        "id": "LVD6afW81lVr",
        "outputId": "28ce261d-6e1f-476e-88c2-194fe5855f10"
      },
      "source": [
        "date_indexes = pd.date_range('2015-04-01 16:00:00', '2019-11', freq='3B')\n",
        "date_indexes"
      ],
      "execution_count": 71,
      "outputs": [
        {
          "output_type": "execute_result",
          "data": {
            "text/plain": [
              "DatetimeIndex(['2015-04-01 16:00:00', '2015-04-06 16:00:00',\n",
              "               '2015-04-09 16:00:00', '2015-04-14 16:00:00',\n",
              "               '2015-04-17 16:00:00', '2015-04-22 16:00:00',\n",
              "               '2015-04-27 16:00:00', '2015-04-30 16:00:00',\n",
              "               '2015-05-05 16:00:00', '2015-05-08 16:00:00',\n",
              "               ...\n",
              "               '2019-09-20 16:00:00', '2019-09-25 16:00:00',\n",
              "               '2019-09-30 16:00:00', '2019-10-03 16:00:00',\n",
              "               '2019-10-08 16:00:00', '2019-10-11 16:00:00',\n",
              "               '2019-10-16 16:00:00', '2019-10-21 16:00:00',\n",
              "               '2019-10-24 16:00:00', '2019-10-29 16:00:00'],\n",
              "              dtype='datetime64[ns]', length=399, freq='3B')"
            ]
          },
          "metadata": {},
          "execution_count": 71
        }
      ]
    },
    {
      "cell_type": "code",
      "metadata": {
        "colab": {
          "base_uri": "https://localhost:8080/"
        },
        "id": "ZbYdv7YS2Ddh",
        "outputId": "dbb71686-ea51-4aec-991c-2e1e8248d5fe"
      },
      "source": [
        "close_series = pd.Series(df['Close'], index=date_indexes).fillna(method='ffill')\n",
        "close_series"
      ],
      "execution_count": 72,
      "outputs": [
        {
          "output_type": "execute_result",
          "data": {
            "text/plain": [
              "2015-04-01 16:00:00     40.72\n",
              "2015-04-06 16:00:00     41.55\n",
              "2015-04-09 16:00:00     41.48\n",
              "2015-04-14 16:00:00     41.65\n",
              "2015-04-17 16:00:00     41.62\n",
              "                        ...  \n",
              "2019-10-11 16:00:00    139.68\n",
              "2019-10-16 16:00:00    140.41\n",
              "2019-10-21 16:00:00    138.43\n",
              "2019-10-24 16:00:00    139.94\n",
              "2019-10-29 16:00:00    142.83\n",
              "Freq: 3B, Name: Close, Length: 399, dtype: float64"
            ]
          },
          "metadata": {},
          "execution_count": 72
        }
      ]
    },
    {
      "cell_type": "code",
      "metadata": {
        "colab": {
          "base_uri": "https://localhost:8080/"
        },
        "id": "Bip8AZ4z2Wu1",
        "outputId": "05a892ce-3a2a-4797-f129-38cf0b3157e4"
      },
      "source": [
        "open_series_indexed = open_series['2016-05':'2017-03']\n",
        "open_series_indexed"
      ],
      "execution_count": 73,
      "outputs": [
        {
          "output_type": "execute_result",
          "data": {
            "text/plain": [
              "2016-05-01 16:00:00    50.62\n",
              "2016-05-04 16:00:00    49.84\n",
              "2016-05-07 16:00:00    49.84\n",
              "2016-05-10 16:00:00    50.33\n",
              "2016-05-13 16:00:00    51.44\n",
              "                       ...  \n",
              "2017-03-18 16:00:00    64.55\n",
              "2017-03-21 16:00:00    65.19\n",
              "2017-03-24 16:00:00    65.12\n",
              "2017-03-27 16:00:00    64.63\n",
              "2017-03-30 16:00:00    65.42\n",
              "Freq: 3D, Name: Open, Length: 112, dtype: float64"
            ]
          },
          "metadata": {},
          "execution_count": 73
        }
      ]
    },
    {
      "cell_type": "code",
      "metadata": {
        "colab": {
          "base_uri": "https://localhost:8080/"
        },
        "id": "Aa9th67r2bHb",
        "outputId": "2d001596-0979-4c93-f518-5f354f6face0"
      },
      "source": [
        "close_series_indexed = close_series['2017-05']\n",
        "close_series_indexed"
      ],
      "execution_count": 74,
      "outputs": [
        {
          "output_type": "execute_result",
          "data": {
            "text/plain": [
              "2017-05-01 16:00:00    69.41\n",
              "2017-05-04 16:00:00    68.81\n",
              "2017-05-09 16:00:00    69.04\n",
              "2017-05-12 16:00:00    68.38\n",
              "2017-05-17 16:00:00    67.48\n",
              "2017-05-22 16:00:00    68.45\n",
              "2017-05-25 16:00:00    69.62\n",
              "2017-05-30 16:00:00    70.41\n",
              "Freq: 3B, Name: Close, dtype: float64"
            ]
          },
          "metadata": {},
          "execution_count": 74
        }
      ]
    },
    {
      "cell_type": "code",
      "metadata": {
        "colab": {
          "base_uri": "https://localhost:8080/",
          "height": 423
        },
        "id": "d0kdgxiN8lvL",
        "outputId": "9a1c01c1-8f62-4449-f92c-c90501cbb9d9"
      },
      "source": [
        "merged_series = pd.merge_asof(open_series, close_series, left_index=True, right_index=True)\n",
        "merged_series"
      ],
      "execution_count": 75,
      "outputs": [
        {
          "output_type": "execute_result",
          "data": {
            "text/html": [
              "<div>\n",
              "<style scoped>\n",
              "    .dataframe tbody tr th:only-of-type {\n",
              "        vertical-align: middle;\n",
              "    }\n",
              "\n",
              "    .dataframe tbody tr th {\n",
              "        vertical-align: top;\n",
              "    }\n",
              "\n",
              "    .dataframe thead th {\n",
              "        text-align: right;\n",
              "    }\n",
              "</style>\n",
              "<table border=\"1\" class=\"dataframe\">\n",
              "  <thead>\n",
              "    <tr style=\"text-align: right;\">\n",
              "      <th></th>\n",
              "      <th>Open</th>\n",
              "      <th>Close</th>\n",
              "    </tr>\n",
              "  </thead>\n",
              "  <tbody>\n",
              "    <tr>\n",
              "      <th>2015-04-01 16:00:00</th>\n",
              "      <td>40.60</td>\n",
              "      <td>40.72</td>\n",
              "    </tr>\n",
              "    <tr>\n",
              "      <th>2015-04-04 16:00:00</th>\n",
              "      <td>40.60</td>\n",
              "      <td>40.72</td>\n",
              "    </tr>\n",
              "    <tr>\n",
              "      <th>2015-04-07 16:00:00</th>\n",
              "      <td>41.61</td>\n",
              "      <td>41.55</td>\n",
              "    </tr>\n",
              "    <tr>\n",
              "      <th>2015-04-10 16:00:00</th>\n",
              "      <td>41.63</td>\n",
              "      <td>41.48</td>\n",
              "    </tr>\n",
              "    <tr>\n",
              "      <th>2015-04-13 16:00:00</th>\n",
              "      <td>41.40</td>\n",
              "      <td>41.48</td>\n",
              "    </tr>\n",
              "    <tr>\n",
              "      <th>...</th>\n",
              "      <td>...</td>\n",
              "      <td>...</td>\n",
              "    </tr>\n",
              "    <tr>\n",
              "      <th>2020-12-18 16:00:00</th>\n",
              "      <td>218.59</td>\n",
              "      <td>142.83</td>\n",
              "    </tr>\n",
              "    <tr>\n",
              "      <th>2020-12-21 16:00:00</th>\n",
              "      <td>217.55</td>\n",
              "      <td>142.83</td>\n",
              "    </tr>\n",
              "    <tr>\n",
              "      <th>2020-12-24 16:00:00</th>\n",
              "      <td>217.55</td>\n",
              "      <td>142.83</td>\n",
              "    </tr>\n",
              "    <tr>\n",
              "      <th>2020-12-27 16:00:00</th>\n",
              "      <td>217.55</td>\n",
              "      <td>142.83</td>\n",
              "    </tr>\n",
              "    <tr>\n",
              "      <th>2020-12-30 16:00:00</th>\n",
              "      <td>225.23</td>\n",
              "      <td>142.83</td>\n",
              "    </tr>\n",
              "  </tbody>\n",
              "</table>\n",
              "<p>701 rows × 2 columns</p>\n",
              "</div>"
            ],
            "text/plain": [
              "                       Open   Close\n",
              "2015-04-01 16:00:00   40.60   40.72\n",
              "2015-04-04 16:00:00   40.60   40.72\n",
              "2015-04-07 16:00:00   41.61   41.55\n",
              "2015-04-10 16:00:00   41.63   41.48\n",
              "2015-04-13 16:00:00   41.40   41.48\n",
              "...                     ...     ...\n",
              "2020-12-18 16:00:00  218.59  142.83\n",
              "2020-12-21 16:00:00  217.55  142.83\n",
              "2020-12-24 16:00:00  217.55  142.83\n",
              "2020-12-27 16:00:00  217.55  142.83\n",
              "2020-12-30 16:00:00  225.23  142.83\n",
              "\n",
              "[701 rows x 2 columns]"
            ]
          },
          "metadata": {},
          "execution_count": 75
        }
      ]
    },
    {
      "cell_type": "markdown",
      "metadata": {
        "id": "mB1lIfcVo0Ec"
      },
      "source": [
        "# Друге завдання\n"
      ]
    },
    {
      "cell_type": "code",
      "metadata": {
        "id": "LqWet1v_EZsN"
      },
      "source": [
        "close_series = pd.Series(df['Close'])"
      ],
      "execution_count": 76,
      "outputs": []
    },
    {
      "cell_type": "code",
      "metadata": {
        "colab": {
          "base_uri": "https://localhost:8080/",
          "height": 286
        },
        "id": "6FRolW6dGlcl",
        "outputId": "29790f2f-fc0d-4ce0-d644-b89565de8be8"
      },
      "source": [
        "close_series.plot()"
      ],
      "execution_count": 77,
      "outputs": [
        {
          "output_type": "execute_result",
          "data": {
            "text/plain": [
              "<matplotlib.axes._subplots.AxesSubplot at 0x7fa447dbe850>"
            ]
          },
          "metadata": {},
          "execution_count": 77
        },
        {
          "output_type": "display_data",
          "data": {
            "image/png": "[encoded data removed]",
            "text/plain": [
              "<Figure size 432x288 with 1 Axes>"
            ]
          },
          "metadata": {
            "needs_background": "light"
          }
        }
      ]
    },
    {
      "cell_type": "code",
      "metadata": {
        "colab": {
          "base_uri": "https://localhost:8080/",
          "height": 294
        },
        "id": "__WbVizqGeQt",
        "outputId": "02d0637c-7457-4807-fe62-1bff6ee8a494"
      },
      "source": [
        "close_series['2019'].plot()"
      ],
      "execution_count": 78,
      "outputs": [
        {
          "output_type": "execute_result",
          "data": {
            "text/plain": [
              "<matplotlib.axes._subplots.AxesSubplot at 0x7fa447d058d0>"
            ]
          },
          "metadata": {},
          "execution_count": 78
        },
        {
          "output_type": "display_data",
          "data": {
            "image/png": "[encoded data removed]",
            "text/plain": [
              "<Figure size 432x288 with 1 Axes>"
            ]
          },
          "metadata": {
            "needs_background": "light"
          }
        }
      ]
    },
    {
      "cell_type": "code",
      "metadata": {
        "colab": {
          "base_uri": "https://localhost:8080/",
          "height": 302
        },
        "id": "b6gDknghGqw7",
        "outputId": "6273ee64-3f80-4ecb-dea6-19c5e2925ebb"
      },
      "source": [
        "close_series['2018-09'].plot()"
      ],
      "execution_count": 79,
      "outputs": [
        {
          "output_type": "execute_result",
          "data": {
            "text/plain": [
              "<matplotlib.axes._subplots.AxesSubplot at 0x7fa447c7b450>"
            ]
          },
          "metadata": {},
          "execution_count": 79
        },
        {
          "output_type": "display_data",
          "data": {
            "image/png": "[encoded data removed]",
            "text/plain": [
              "<Figure size 432x288 with 1 Axes>"
            ]
          },
          "metadata": {
            "needs_background": "light"
          }
        }
      ]
    },
    {
      "cell_type": "code",
      "metadata": {
        "colab": {
          "base_uri": "https://localhost:8080/",
          "height": 294
        },
        "id": "PkUeRKonG4Sj",
        "outputId": "05ed8e76-cb88-4801-f592-1e63cabbf2ab"
      },
      "source": [
        "close_series['2015-11': '2018-01'].plot()"
      ],
      "execution_count": 80,
      "outputs": [
        {
          "output_type": "execute_result",
          "data": {
            "text/plain": [
              "<matplotlib.axes._subplots.AxesSubplot at 0x7fa447c69190>"
            ]
          },
          "metadata": {},
          "execution_count": 80
        },
        {
          "output_type": "display_data",
          "data": {
            "image/png": "[encoded data removed]",
            "text/plain": [
              "<Figure size 432x288 with 1 Axes>"
            ]
          },
          "metadata": {
            "needs_background": "light"
          }
        }
      ]
    },
    {
      "cell_type": "code",
      "metadata": {
        "colab": {
          "base_uri": "https://localhost:8080/",
          "height": 306
        },
        "id": "fjhcG5RBHf5-",
        "outputId": "d9e737df-7254-46cf-9c5a-e1fc23831c46"
      },
      "source": [
        "close_series['2021-01'].last('2W').plot()"
      ],
      "execution_count": 81,
      "outputs": [
        {
          "output_type": "execute_result",
          "data": {
            "text/plain": [
              "<matplotlib.axes._subplots.AxesSubplot at 0x7fa447cafe10>"
            ]
          },
          "metadata": {},
          "execution_count": 81
        },
        {
          "output_type": "display_data",
          "data": {
            "image/png": "[encoded data removed]",
            "text/plain": [
              "<Figure size 432x288 with 1 Axes>"
            ]
          },
          "metadata": {
            "needs_background": "light"
          }
        }
      ]
    },
    {
      "cell_type": "markdown",
      "metadata": {
        "id": "7kTCMlLeyr0x"
      },
      "source": [
        "# Третє завдання"
      ]
    },
    {
      "cell_type": "code",
      "metadata": {
        "colab": {
          "base_uri": "https://localhost:8080/"
        },
        "id": "hZk54jUOI0qr",
        "outputId": "85fc607d-d276-4e4c-f582-12df2ea694ea"
      },
      "source": [
        "high_series = pd.Series(df['High'])\n",
        "high_series"
      ],
      "execution_count": 82,
      "outputs": [
        {
          "output_type": "execute_result",
          "data": {
            "text/plain": [
              "Date\n",
              "2015-04-01 16:00:00     40.76\n",
              "2015-04-02 16:00:00     40.74\n",
              "2015-04-06 16:00:00     41.78\n",
              "2015-04-07 16:00:00     41.91\n",
              "2015-04-08 16:00:00     41.69\n",
              "                        ...  \n",
              "2021-03-25 16:00:00    236.94\n",
              "2021-03-26 16:00:00    236.71\n",
              "2021-03-29 16:00:00    236.80\n",
              "2021-03-30 16:00:00    233.85\n",
              "2021-03-31 16:00:00    239.10\n",
              "Name: High, Length: 1511, dtype: float64"
            ]
          },
          "metadata": {},
          "execution_count": 82
        }
      ]
    },
    {
      "cell_type": "code",
      "metadata": {
        "colab": {
          "base_uri": "https://localhost:8080/"
        },
        "id": "LMGXqZCjKJ0M",
        "outputId": "b9325a2d-b698-49ca-cf31-520553d7a374"
      },
      "source": [
        "high_series['2016'].mean()"
      ],
      "execution_count": 83,
      "outputs": [
        {
          "output_type": "execute_result",
          "data": {
            "text/plain": [
              "55.677460317460344"
            ]
          },
          "metadata": {},
          "execution_count": 83
        }
      ]
    },
    {
      "cell_type": "code",
      "metadata": {
        "colab": {
          "base_uri": "https://localhost:8080/"
        },
        "id": "r90AOSPvKf1e",
        "outputId": "838bf827-4762-4d71-8309-ded291c89960"
      },
      "source": [
        "high_series.to_period('M').groupby(level=0).mean()"
      ],
      "execution_count": 84,
      "outputs": [
        {
          "output_type": "execute_result",
          "data": {
            "text/plain": [
              "Date\n",
              "2015-04     43.736667\n",
              "2015-05     47.977000\n",
              "2015-06     46.466364\n",
              "2015-07     46.013182\n",
              "2015-08     46.120476\n",
              "              ...    \n",
              "2020-11    216.458000\n",
              "2020-12    219.528636\n",
              "2021-01    224.572105\n",
              "2021-02    241.967368\n",
              "2021-03    236.289565\n",
              "Freq: M, Name: High, Length: 72, dtype: float64"
            ]
          },
          "metadata": {},
          "execution_count": 84
        }
      ]
    },
    {
      "cell_type": "code",
      "metadata": {
        "id": "1gmzNxqrKkA5",
        "colab": {
          "base_uri": "https://localhost:8080/"
        },
        "outputId": "74118b5f-a1b9-4cd8-9297-24bee82d7256"
      },
      "source": [
        "high_series['2019'].first('3M').to_period('W').groupby(level=0).mean()"
      ],
      "execution_count": 87,
      "outputs": [
        {
          "output_type": "execute_result",
          "data": {
            "text/plain": [
              "Date\n",
              "2018-12-31/2019-01-06    101.483333\n",
              "2019-01-07/2019-01-13    103.862000\n",
              "2019-01-14/2019-01-20    105.742000\n",
              "2019-01-21/2019-01-27    107.255000\n",
              "2019-01-28/2019-02-03    105.430000\n",
              "2019-02-04/2019-02-10    106.288000\n",
              "2019-02-11/2019-02-17    107.418000\n",
              "2019-02-18/2019-02-24    109.320000\n",
              "2019-02-25/2019-03-03    112.736000\n",
              "2019-03-04/2019-03-10    112.112000\n",
              "2019-03-11/2019-03-17    114.878000\n",
              "2019-03-18/2019-03-24    119.042000\n",
              "2019-03-25/2019-03-31    118.166000\n",
              "Freq: W-SUN, Name: High, dtype: float64"
            ]
          },
          "metadata": {},
          "execution_count": 87
        }
      ]
    }
  ]
}