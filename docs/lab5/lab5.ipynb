{
  "nbformat": 4,
  "nbformat_minor": 0,
  "metadata": {
    "colab": {
      "name": "lab5",
      "provenance": [],
      "collapsed_sections": [
        "mB1lIfcVo0Ec"
      ],
      "include_colab_link": true
    },
    "kernelspec": {
      "name": "python3",
      "display_name": "Python 3"
    },
    "language_info": {
      "name": "python"
    }
  },
  "cells": [
    {
      "cell_type": "markdown",
      "metadata": {
        "id": "view-in-github",
        "colab_type": "text"
      },
      "source": [
        "<a href=\"https://colab.research.google.com/github/mezgoodle/ad_labs/blob/master/docs/lab5/lab5.ipynb\" target=\"_parent\"><img src=\"https://colab.research.google.com/assets/colab-badge.svg\" alt=\"Open In Colab\"/></a>"
      ]
    },
    {
      "cell_type": "markdown",
      "metadata": {
        "id": "kS385O1puoPA"
      },
      "source": [
        "# Вступ"
      ]
    },
    {
      "cell_type": "markdown",
      "metadata": {
        "id": "onY6XtHrnie0"
      },
      "source": [
        "Створити програму, яка виконує наступні завдання:\n",
        "\n",
        "1. Створити не менше двох об’єктів TimeSeries, у яких індекси створені за\n",
        "допомогою date_range(). Виділити підмасиви у цих об’єктів. Провести\n",
        "об’єднання об’єктів TimeSeries за допомогою merge_asof().\n",
        "\n",
        "2. Виконати завдання відповідно до варіанту."
      ]
    },
    {
      "cell_type": "markdown",
      "metadata": {
        "id": "YpnRxuKSeEGg"
      },
      "source": [
        "Варіант 7.\n",
        "*Файл Microsoft_Stock.csv.*\n",
        "\n",
        "1. Побудувати графік зміни ціни на час закриття біржі: а) загальний; б)\n",
        "за 2019 рік; в) за вересень 2018 року; г) за листопад 2015 – січень\n",
        "2018; д) за останні два тижня січня 2021-го року.\n",
        "\n",
        "2. Знайти середні значення найбільшої ціни за день а) за 2016 рік; б) за\n",
        "кожний місяць; в) за кожний тиждень першого кварталу 2019 року."
      ]
    },
    {
      "cell_type": "code",
      "metadata": {
        "id": "4sSVPRCngDqk"
      },
      "source": [
        "import pandas as pd\n",
        "import numpy as np\n",
        "import matplotlib.pyplot as plt\n",
        "import seaborn as sns"
      ],
      "execution_count": 91,
      "outputs": []
    },
    {
      "cell_type": "markdown",
      "metadata": {
        "id": "ilgX3U6CosjL"
      },
      "source": [
        "# Дані"
      ]
    },
    {
      "cell_type": "code",
      "metadata": {
        "colab": {
          "base_uri": "https://localhost:8080/",
          "height": 455
        },
        "id": "antjnJS-jyxv",
        "outputId": "ebcd3b2c-487c-4862-b0df-9a7c889ec436"
      },
      "source": [
        "df = pd.read_csv('https://raw.githubusercontent.com/mezgoodle/ad_labs/master/data/Microsoft_Stock.csv', index_col='Date', parse_dates=True)\n",
        "df"
      ],
      "execution_count": 92,
      "outputs": [
        {
          "output_type": "execute_result",
          "data": {
            "text/html": [
              "<div>\n",
              "<style scoped>\n",
              "    .dataframe tbody tr th:only-of-type {\n",
              "        vertical-align: middle;\n",
              "    }\n",
              "\n",
              "    .dataframe tbody tr th {\n",
              "        vertical-align: top;\n",
              "    }\n",
              "\n",
              "    .dataframe thead th {\n",
              "        text-align: right;\n",
              "    }\n",
              "</style>\n",
              "<table border=\"1\" class=\"dataframe\">\n",
              "  <thead>\n",
              "    <tr style=\"text-align: right;\">\n",
              "      <th></th>\n",
              "      <th>Open</th>\n",
              "      <th>High</th>\n",
              "      <th>Low</th>\n",
              "      <th>Close</th>\n",
              "      <th>Volume</th>\n",
              "    </tr>\n",
              "    <tr>\n",
              "      <th>Date</th>\n",
              "      <th></th>\n",
              "      <th></th>\n",
              "      <th></th>\n",
              "      <th></th>\n",
              "      <th></th>\n",
              "    </tr>\n",
              "  </thead>\n",
              "  <tbody>\n",
              "    <tr>\n",
              "      <th>2015-04-01 16:00:00</th>\n",
              "      <td>40.60</td>\n",
              "      <td>40.76</td>\n",
              "      <td>40.31</td>\n",
              "      <td>40.72</td>\n",
              "      <td>36865322</td>\n",
              "    </tr>\n",
              "    <tr>\n",
              "      <th>2015-04-02 16:00:00</th>\n",
              "      <td>40.66</td>\n",
              "      <td>40.74</td>\n",
              "      <td>40.12</td>\n",
              "      <td>40.29</td>\n",
              "      <td>37487476</td>\n",
              "    </tr>\n",
              "    <tr>\n",
              "      <th>2015-04-06 16:00:00</th>\n",
              "      <td>40.34</td>\n",
              "      <td>41.78</td>\n",
              "      <td>40.18</td>\n",
              "      <td>41.55</td>\n",
              "      <td>39223692</td>\n",
              "    </tr>\n",
              "    <tr>\n",
              "      <th>2015-04-07 16:00:00</th>\n",
              "      <td>41.61</td>\n",
              "      <td>41.91</td>\n",
              "      <td>41.31</td>\n",
              "      <td>41.53</td>\n",
              "      <td>28809375</td>\n",
              "    </tr>\n",
              "    <tr>\n",
              "      <th>2015-04-08 16:00:00</th>\n",
              "      <td>41.48</td>\n",
              "      <td>41.69</td>\n",
              "      <td>41.04</td>\n",
              "      <td>41.42</td>\n",
              "      <td>24753438</td>\n",
              "    </tr>\n",
              "    <tr>\n",
              "      <th>...</th>\n",
              "      <td>...</td>\n",
              "      <td>...</td>\n",
              "      <td>...</td>\n",
              "      <td>...</td>\n",
              "      <td>...</td>\n",
              "    </tr>\n",
              "    <tr>\n",
              "      <th>2021-03-25 16:00:00</th>\n",
              "      <td>235.30</td>\n",
              "      <td>236.94</td>\n",
              "      <td>231.57</td>\n",
              "      <td>232.34</td>\n",
              "      <td>34061853</td>\n",
              "    </tr>\n",
              "    <tr>\n",
              "      <th>2021-03-26 16:00:00</th>\n",
              "      <td>231.55</td>\n",
              "      <td>236.71</td>\n",
              "      <td>231.55</td>\n",
              "      <td>236.48</td>\n",
              "      <td>25479853</td>\n",
              "    </tr>\n",
              "    <tr>\n",
              "      <th>2021-03-29 16:00:00</th>\n",
              "      <td>236.59</td>\n",
              "      <td>236.80</td>\n",
              "      <td>231.88</td>\n",
              "      <td>235.24</td>\n",
              "      <td>25227455</td>\n",
              "    </tr>\n",
              "    <tr>\n",
              "      <th>2021-03-30 16:00:00</th>\n",
              "      <td>233.53</td>\n",
              "      <td>233.85</td>\n",
              "      <td>231.10</td>\n",
              "      <td>231.85</td>\n",
              "      <td>24792012</td>\n",
              "    </tr>\n",
              "    <tr>\n",
              "      <th>2021-03-31 16:00:00</th>\n",
              "      <td>232.91</td>\n",
              "      <td>239.10</td>\n",
              "      <td>232.39</td>\n",
              "      <td>235.77</td>\n",
              "      <td>43623471</td>\n",
              "    </tr>\n",
              "  </tbody>\n",
              "</table>\n",
              "<p>1511 rows × 5 columns</p>\n",
              "</div>"
            ],
            "text/plain": [
              "                       Open    High     Low   Close    Volume\n",
              "Date                                                         \n",
              "2015-04-01 16:00:00   40.60   40.76   40.31   40.72  36865322\n",
              "2015-04-02 16:00:00   40.66   40.74   40.12   40.29  37487476\n",
              "2015-04-06 16:00:00   40.34   41.78   40.18   41.55  39223692\n",
              "2015-04-07 16:00:00   41.61   41.91   41.31   41.53  28809375\n",
              "2015-04-08 16:00:00   41.48   41.69   41.04   41.42  24753438\n",
              "...                     ...     ...     ...     ...       ...\n",
              "2021-03-25 16:00:00  235.30  236.94  231.57  232.34  34061853\n",
              "2021-03-26 16:00:00  231.55  236.71  231.55  236.48  25479853\n",
              "2021-03-29 16:00:00  236.59  236.80  231.88  235.24  25227455\n",
              "2021-03-30 16:00:00  233.53  233.85  231.10  231.85  24792012\n",
              "2021-03-31 16:00:00  232.91  239.10  232.39  235.77  43623471\n",
              "\n",
              "[1511 rows x 5 columns]"
            ]
          },
          "metadata": {},
          "execution_count": 92
        }
      ]
    },
    {
      "cell_type": "code",
      "metadata": {
        "id": "CraxwBfJgNp9",
        "colab": {
          "base_uri": "https://localhost:8080/"
        },
        "outputId": "e12e0907-e56d-45f1-fb3b-eb48e9e3d25e"
      },
      "source": [
        "df.info()"
      ],
      "execution_count": 93,
      "outputs": [
        {
          "output_type": "stream",
          "name": "stdout",
          "text": [
            "<class 'pandas.core.frame.DataFrame'>\n",
            "DatetimeIndex: 1511 entries, 2015-04-01 16:00:00 to 2021-03-31 16:00:00\n",
            "Data columns (total 5 columns):\n",
            " #   Column  Non-Null Count  Dtype  \n",
            "---  ------  --------------  -----  \n",
            " 0   Open    1511 non-null   float64\n",
            " 1   High    1511 non-null   float64\n",
            " 2   Low     1511 non-null   float64\n",
            " 3   Close   1511 non-null   float64\n",
            " 4   Volume  1511 non-null   int64  \n",
            "dtypes: float64(4), int64(1)\n",
            "memory usage: 70.8 KB\n"
          ]
        }
      ]
    },
    {
      "cell_type": "code",
      "metadata": {
        "colab": {
          "base_uri": "https://localhost:8080/",
          "height": 206
        },
        "id": "KviuoBx3BVwq",
        "outputId": "5590ee92-aa93-41ca-a25b-068f78f26fdb"
      },
      "source": [
        "df.describe().T"
      ],
      "execution_count": 94,
      "outputs": [
        {
          "output_type": "execute_result",
          "data": {
            "text/html": [
              "<div>\n",
              "<style scoped>\n",
              "    .dataframe tbody tr th:only-of-type {\n",
              "        vertical-align: middle;\n",
              "    }\n",
              "\n",
              "    .dataframe tbody tr th {\n",
              "        vertical-align: top;\n",
              "    }\n",
              "\n",
              "    .dataframe thead th {\n",
              "        text-align: right;\n",
              "    }\n",
              "</style>\n",
              "<table border=\"1\" class=\"dataframe\">\n",
              "  <thead>\n",
              "    <tr style=\"text-align: right;\">\n",
              "      <th></th>\n",
              "      <th>count</th>\n",
              "      <th>mean</th>\n",
              "      <th>std</th>\n",
              "      <th>min</th>\n",
              "      <th>25%</th>\n",
              "      <th>50%</th>\n",
              "      <th>75%</th>\n",
              "      <th>max</th>\n",
              "    </tr>\n",
              "  </thead>\n",
              "  <tbody>\n",
              "    <tr>\n",
              "      <th>Open</th>\n",
              "      <td>1511.0</td>\n",
              "      <td>1.073860e+02</td>\n",
              "      <td>5.669133e+01</td>\n",
              "      <td>40.34</td>\n",
              "      <td>5.786000e+01</td>\n",
              "      <td>93.99</td>\n",
              "      <td>1.394400e+02</td>\n",
              "      <td>2.450300e+02</td>\n",
              "    </tr>\n",
              "    <tr>\n",
              "      <th>High</th>\n",
              "      <td>1511.0</td>\n",
              "      <td>1.084375e+02</td>\n",
              "      <td>5.738228e+01</td>\n",
              "      <td>40.74</td>\n",
              "      <td>5.806000e+01</td>\n",
              "      <td>95.10</td>\n",
              "      <td>1.403250e+02</td>\n",
              "      <td>2.461300e+02</td>\n",
              "    </tr>\n",
              "    <tr>\n",
              "      <th>Low</th>\n",
              "      <td>1511.0</td>\n",
              "      <td>1.062945e+02</td>\n",
              "      <td>5.597716e+01</td>\n",
              "      <td>39.72</td>\n",
              "      <td>5.742000e+01</td>\n",
              "      <td>92.92</td>\n",
              "      <td>1.378250e+02</td>\n",
              "      <td>2.429200e+02</td>\n",
              "    </tr>\n",
              "    <tr>\n",
              "      <th>Close</th>\n",
              "      <td>1511.0</td>\n",
              "      <td>1.074221e+02</td>\n",
              "      <td>5.670230e+01</td>\n",
              "      <td>40.29</td>\n",
              "      <td>5.785500e+01</td>\n",
              "      <td>93.86</td>\n",
              "      <td>1.389650e+02</td>\n",
              "      <td>2.449900e+02</td>\n",
              "    </tr>\n",
              "    <tr>\n",
              "      <th>Volume</th>\n",
              "      <td>1511.0</td>\n",
              "      <td>3.019863e+07</td>\n",
              "      <td>1.425266e+07</td>\n",
              "      <td>101612.00</td>\n",
              "      <td>2.136213e+07</td>\n",
              "      <td>26629615.00</td>\n",
              "      <td>3.431962e+07</td>\n",
              "      <td>1.352271e+08</td>\n",
              "    </tr>\n",
              "  </tbody>\n",
              "</table>\n",
              "</div>"
            ],
            "text/plain": [
              "         count          mean  ...           75%           max\n",
              "Open    1511.0  1.073860e+02  ...  1.394400e+02  2.450300e+02\n",
              "High    1511.0  1.084375e+02  ...  1.403250e+02  2.461300e+02\n",
              "Low     1511.0  1.062945e+02  ...  1.378250e+02  2.429200e+02\n",
              "Close   1511.0  1.074221e+02  ...  1.389650e+02  2.449900e+02\n",
              "Volume  1511.0  3.019863e+07  ...  3.431962e+07  1.352271e+08\n",
              "\n",
              "[5 rows x 8 columns]"
            ]
          },
          "metadata": {},
          "execution_count": 94
        }
      ]
    },
    {
      "cell_type": "markdown",
      "metadata": {
        "id": "EOakZA5Uob38"
      },
      "source": [
        "# Перше завдання"
      ]
    },
    {
      "cell_type": "code",
      "metadata": {
        "colab": {
          "base_uri": "https://localhost:8080/"
        },
        "id": "vD_ijj4hlLvt",
        "outputId": "491ef32f-aa6f-4245-f177-5107bfc7baef"
      },
      "source": [
        "date_indexes = pd.date_range('2015-04-01 16:00:00', '2021', freq='3D')\n",
        "date_indexes"
      ],
      "execution_count": 95,
      "outputs": [
        {
          "output_type": "execute_result",
          "data": {
            "text/plain": [
              "DatetimeIndex(['2015-04-01 16:00:00', '2015-04-04 16:00:00',\n",
              "               '2015-04-07 16:00:00', '2015-04-10 16:00:00',\n",
              "               '2015-04-13 16:00:00', '2015-04-16 16:00:00',\n",
              "               '2015-04-19 16:00:00', '2015-04-22 16:00:00',\n",
              "               '2015-04-25 16:00:00', '2015-04-28 16:00:00',\n",
              "               ...\n",
              "               '2020-12-03 16:00:00', '2020-12-06 16:00:00',\n",
              "               '2020-12-09 16:00:00', '2020-12-12 16:00:00',\n",
              "               '2020-12-15 16:00:00', '2020-12-18 16:00:00',\n",
              "               '2020-12-21 16:00:00', '2020-12-24 16:00:00',\n",
              "               '2020-12-27 16:00:00', '2020-12-30 16:00:00'],\n",
              "              dtype='datetime64[ns]', length=701, freq='3D')"
            ]
          },
          "metadata": {},
          "execution_count": 95
        }
      ]
    },
    {
      "cell_type": "code",
      "metadata": {
        "colab": {
          "base_uri": "https://localhost:8080/"
        },
        "id": "T3sYKskWl5Kq",
        "outputId": "d947ad16-8315-4745-b2a5-eb024f6784ca"
      },
      "source": [
        "open_series = pd.Series(df['Open'].fillna(method='ffill'), index=date_indexes).dropna()\n",
        "open_series"
      ],
      "execution_count": 96,
      "outputs": [
        {
          "output_type": "execute_result",
          "data": {
            "text/plain": [
              "2015-04-01 16:00:00     40.60\n",
              "2015-04-07 16:00:00     41.61\n",
              "2015-04-10 16:00:00     41.63\n",
              "2015-04-13 16:00:00     41.40\n",
              "2015-04-16 16:00:00     41.95\n",
              "                        ...  \n",
              "2020-12-09 16:00:00    215.16\n",
              "2020-12-15 16:00:00    215.17\n",
              "2020-12-18 16:00:00    218.59\n",
              "2020-12-21 16:00:00    217.55\n",
              "2020-12-30 16:00:00    225.23\n",
              "Name: Open, Length: 476, dtype: float64"
            ]
          },
          "metadata": {},
          "execution_count": 96
        }
      ]
    },
    {
      "cell_type": "code",
      "metadata": {
        "colab": {
          "base_uri": "https://localhost:8080/"
        },
        "id": "LVD6afW81lVr",
        "outputId": "2e344ad3-2a7e-44a0-faa5-cccb8fab5052"
      },
      "source": [
        "date_indexes = pd.date_range('2015-04-01 16:00:00', '2019-11', freq='3B')\n",
        "date_indexes"
      ],
      "execution_count": 97,
      "outputs": [
        {
          "output_type": "execute_result",
          "data": {
            "text/plain": [
              "DatetimeIndex(['2015-04-01 16:00:00', '2015-04-06 16:00:00',\n",
              "               '2015-04-09 16:00:00', '2015-04-14 16:00:00',\n",
              "               '2015-04-17 16:00:00', '2015-04-22 16:00:00',\n",
              "               '2015-04-27 16:00:00', '2015-04-30 16:00:00',\n",
              "               '2015-05-05 16:00:00', '2015-05-08 16:00:00',\n",
              "               ...\n",
              "               '2019-09-20 16:00:00', '2019-09-25 16:00:00',\n",
              "               '2019-09-30 16:00:00', '2019-10-03 16:00:00',\n",
              "               '2019-10-08 16:00:00', '2019-10-11 16:00:00',\n",
              "               '2019-10-16 16:00:00', '2019-10-21 16:00:00',\n",
              "               '2019-10-24 16:00:00', '2019-10-29 16:00:00'],\n",
              "              dtype='datetime64[ns]', length=399, freq='3B')"
            ]
          },
          "metadata": {},
          "execution_count": 97
        }
      ]
    },
    {
      "cell_type": "code",
      "metadata": {
        "colab": {
          "base_uri": "https://localhost:8080/"
        },
        "id": "ZbYdv7YS2Ddh",
        "outputId": "6c2ff2d5-7167-4c79-f99b-f52ffa31ae39"
      },
      "source": [
        "close_series = pd.Series(df['Close'].fillna(method='ffill'), index=date_indexes).dropna()\n",
        "close_series"
      ],
      "execution_count": 98,
      "outputs": [
        {
          "output_type": "execute_result",
          "data": {
            "text/plain": [
              "2015-04-01 16:00:00     40.72\n",
              "2015-04-06 16:00:00     41.55\n",
              "2015-04-09 16:00:00     41.48\n",
              "2015-04-14 16:00:00     41.65\n",
              "2015-04-17 16:00:00     41.62\n",
              "                        ...  \n",
              "2019-10-11 16:00:00    139.68\n",
              "2019-10-16 16:00:00    140.41\n",
              "2019-10-21 16:00:00    138.43\n",
              "2019-10-24 16:00:00    139.94\n",
              "2019-10-29 16:00:00    142.83\n",
              "Name: Close, Length: 385, dtype: float64"
            ]
          },
          "metadata": {},
          "execution_count": 98
        }
      ]
    },
    {
      "cell_type": "code",
      "metadata": {
        "colab": {
          "base_uri": "https://localhost:8080/"
        },
        "id": "Bip8AZ4z2Wu1",
        "outputId": "299592c6-3df3-4dae-e1dc-7c86ce595cc2"
      },
      "source": [
        "open_series_indexed = open_series['2016-05':'2017-03']\n",
        "open_series_indexed"
      ],
      "execution_count": 99,
      "outputs": [
        {
          "output_type": "execute_result",
          "data": {
            "text/plain": [
              "2016-05-04 16:00:00    49.84\n",
              "2016-05-10 16:00:00    50.33\n",
              "2016-05-13 16:00:00    51.44\n",
              "2016-05-16 16:00:00    50.80\n",
              "2016-05-19 16:00:00    50.47\n",
              "                       ...  \n",
              "2017-03-15 16:00:00    64.55\n",
              "2017-03-21 16:00:00    65.19\n",
              "2017-03-24 16:00:00    65.12\n",
              "2017-03-27 16:00:00    64.63\n",
              "2017-03-30 16:00:00    65.42\n",
              "Name: Open, Length: 78, dtype: float64"
            ]
          },
          "metadata": {},
          "execution_count": 99
        }
      ]
    },
    {
      "cell_type": "code",
      "metadata": {
        "colab": {
          "base_uri": "https://localhost:8080/"
        },
        "id": "Aa9th67r2bHb",
        "outputId": "912e76d2-fe0a-49dd-91aa-924f7b7255bc"
      },
      "source": [
        "close_series_indexed = close_series['2017-05']\n",
        "close_series_indexed"
      ],
      "execution_count": 100,
      "outputs": [
        {
          "output_type": "execute_result",
          "data": {
            "text/plain": [
              "2017-05-01 16:00:00    69.41\n",
              "2017-05-04 16:00:00    68.81\n",
              "2017-05-09 16:00:00    69.04\n",
              "2017-05-12 16:00:00    68.38\n",
              "2017-05-17 16:00:00    67.48\n",
              "2017-05-22 16:00:00    68.45\n",
              "2017-05-25 16:00:00    69.62\n",
              "2017-05-30 16:00:00    70.41\n",
              "Name: Close, dtype: float64"
            ]
          },
          "metadata": {},
          "execution_count": 100
        }
      ]
    },
    {
      "cell_type": "code",
      "metadata": {
        "colab": {
          "base_uri": "https://localhost:8080/",
          "height": 423
        },
        "id": "d0kdgxiN8lvL",
        "outputId": "7abef88d-5e75-4574-fdd1-f1f9799aa843"
      },
      "source": [
        "merged_series = pd.merge_asof(open_series, close_series, left_index=True, right_index=True)\n",
        "merged_series"
      ],
      "execution_count": 101,
      "outputs": [
        {
          "output_type": "execute_result",
          "data": {
            "text/html": [
              "<div>\n",
              "<style scoped>\n",
              "    .dataframe tbody tr th:only-of-type {\n",
              "        vertical-align: middle;\n",
              "    }\n",
              "\n",
              "    .dataframe tbody tr th {\n",
              "        vertical-align: top;\n",
              "    }\n",
              "\n",
              "    .dataframe thead th {\n",
              "        text-align: right;\n",
              "    }\n",
              "</style>\n",
              "<table border=\"1\" class=\"dataframe\">\n",
              "  <thead>\n",
              "    <tr style=\"text-align: right;\">\n",
              "      <th></th>\n",
              "      <th>Open</th>\n",
              "      <th>Close</th>\n",
              "    </tr>\n",
              "  </thead>\n",
              "  <tbody>\n",
              "    <tr>\n",
              "      <th>2015-04-01 16:00:00</th>\n",
              "      <td>40.60</td>\n",
              "      <td>40.72</td>\n",
              "    </tr>\n",
              "    <tr>\n",
              "      <th>2015-04-07 16:00:00</th>\n",
              "      <td>41.61</td>\n",
              "      <td>41.55</td>\n",
              "    </tr>\n",
              "    <tr>\n",
              "      <th>2015-04-10 16:00:00</th>\n",
              "      <td>41.63</td>\n",
              "      <td>41.48</td>\n",
              "    </tr>\n",
              "    <tr>\n",
              "      <th>2015-04-13 16:00:00</th>\n",
              "      <td>41.40</td>\n",
              "      <td>41.48</td>\n",
              "    </tr>\n",
              "    <tr>\n",
              "      <th>2015-04-16 16:00:00</th>\n",
              "      <td>41.95</td>\n",
              "      <td>41.65</td>\n",
              "    </tr>\n",
              "    <tr>\n",
              "      <th>...</th>\n",
              "      <td>...</td>\n",
              "      <td>...</td>\n",
              "    </tr>\n",
              "    <tr>\n",
              "      <th>2020-12-09 16:00:00</th>\n",
              "      <td>215.16</td>\n",
              "      <td>142.83</td>\n",
              "    </tr>\n",
              "    <tr>\n",
              "      <th>2020-12-15 16:00:00</th>\n",
              "      <td>215.17</td>\n",
              "      <td>142.83</td>\n",
              "    </tr>\n",
              "    <tr>\n",
              "      <th>2020-12-18 16:00:00</th>\n",
              "      <td>218.59</td>\n",
              "      <td>142.83</td>\n",
              "    </tr>\n",
              "    <tr>\n",
              "      <th>2020-12-21 16:00:00</th>\n",
              "      <td>217.55</td>\n",
              "      <td>142.83</td>\n",
              "    </tr>\n",
              "    <tr>\n",
              "      <th>2020-12-30 16:00:00</th>\n",
              "      <td>225.23</td>\n",
              "      <td>142.83</td>\n",
              "    </tr>\n",
              "  </tbody>\n",
              "</table>\n",
              "<p>476 rows × 2 columns</p>\n",
              "</div>"
            ],
            "text/plain": [
              "                       Open   Close\n",
              "2015-04-01 16:00:00   40.60   40.72\n",
              "2015-04-07 16:00:00   41.61   41.55\n",
              "2015-04-10 16:00:00   41.63   41.48\n",
              "2015-04-13 16:00:00   41.40   41.48\n",
              "2015-04-16 16:00:00   41.95   41.65\n",
              "...                     ...     ...\n",
              "2020-12-09 16:00:00  215.16  142.83\n",
              "2020-12-15 16:00:00  215.17  142.83\n",
              "2020-12-18 16:00:00  218.59  142.83\n",
              "2020-12-21 16:00:00  217.55  142.83\n",
              "2020-12-30 16:00:00  225.23  142.83\n",
              "\n",
              "[476 rows x 2 columns]"
            ]
          },
          "metadata": {},
          "execution_count": 101
        }
      ]
    },
    {
      "cell_type": "markdown",
      "metadata": {
        "id": "mB1lIfcVo0Ec"
      },
      "source": [
        "# Друге завдання\n"
      ]
    },
    {
      "cell_type": "markdown",
      "metadata": {
        "id": "7kTCMlLeyr0x"
      },
      "source": [
        "# Третє завдання"
      ]
    },
    {
      "cell_type": "markdown",
      "metadata": {
        "id": "MslEOBfLh-qC"
      },
      "source": [
        "# Четверте завдання"
      ]
    }
  ]
}