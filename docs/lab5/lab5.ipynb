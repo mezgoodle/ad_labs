{
  "nbformat": 4,
  "nbformat_minor": 0,
  "metadata": {
    "colab": {
      "name": "lab5",
      "provenance": [],
      "collapsed_sections": [
        "ilgX3U6CosjL",
        "EOakZA5Uob38",
        "mB1lIfcVo0Ec"
      ],
      "authorship_tag": "ABX9TyOZMpB+H0cilCo5dxCTOJxM",
      "include_colab_link": true
    },
    "kernelspec": {
      "name": "python3",
      "display_name": "Python 3"
    },
    "language_info": {
      "name": "python"
    }
  },
  "cells": [
    {
      "cell_type": "markdown",
      "metadata": {
        "id": "view-in-github",
        "colab_type": "text"
      },
      "source": [
        "<a href=\"https://colab.research.google.com/github/mezgoodle/ad_labs/blob/master/docs/lab5/lab5.ipynb\" target=\"_parent\"><img src=\"https://colab.research.google.com/assets/colab-badge.svg\" alt=\"Open In Colab\"/></a>"
      ]
    },
    {
      "cell_type": "markdown",
      "metadata": {
        "id": "kS385O1puoPA"
      },
      "source": [
        "# Вступ"
      ]
    },
    {
      "cell_type": "markdown",
      "metadata": {
        "id": "onY6XtHrnie0"
      },
      "source": [
        "Створити програму, яка виконує наступні завдання:\n",
        "\n",
        "1. Створити не менше двох об’єктів TimeSeries, у яких індекси створені за\n",
        "допомогою date_range(). Виділити підмасиви у цих об’єктів. Провести\n",
        "об’єднання об’єктів TimeSeries за допомогою merge_asof().\n",
        "\n",
        "2. Виконати завдання відповідно до варіанту."
      ]
    },
    {
      "cell_type": "markdown",
      "metadata": {
        "id": "YpnRxuKSeEGg"
      },
      "source": [
        "Варіант 7.\n",
        "*Файл Microsoft_Stock.csv.*\n",
        "\n",
        "1. Побудувати графік зміни ціни на час закриття біржі: а) загальний; б)\n",
        "за 2019 рік; в) за вересень 2018 року; г) за листопад 2015 – січень\n",
        "2018; д) за останні два тижня січня 2021-го року.\n",
        "\n",
        "2. Знайти середні значення найбільшої ціни за день а) за 2016 рік; б) за\n",
        "кожний місяць; в) за кожний тиждень першого кварталу 2019 року."
      ]
    },
    {
      "cell_type": "code",
      "metadata": {
        "id": "4sSVPRCngDqk"
      },
      "source": [
        "import pandas as pd\n",
        "import numpy as np\n",
        "import matplotlib.pyplot as plt\n",
        "import seaborn as sns"
      ],
      "execution_count": 2,
      "outputs": []
    },
    {
      "cell_type": "markdown",
      "metadata": {
        "id": "ilgX3U6CosjL"
      },
      "source": [
        "# Дані"
      ]
    },
    {
      "cell_type": "code",
      "metadata": {
        "id": "CraxwBfJgNp9",
        "colab": {
          "base_uri": "https://localhost:8080/"
        },
        "outputId": "0ac27b0a-e6df-453f-f8a9-60706006407f"
      },
      "source": [
        "df = pd.read_csv('https://raw.githubusercontent.com/mezgoodle/ad_labs/master/data/Microsoft_Stock.csv')\n",
        "df.info()"
      ],
      "execution_count": 4,
      "outputs": [
        {
          "output_type": "stream",
          "name": "stdout",
          "text": [
            "<class 'pandas.core.frame.DataFrame'>\n",
            "RangeIndex: 1511 entries, 0 to 1510\n",
            "Data columns (total 6 columns):\n",
            " #   Column  Non-Null Count  Dtype  \n",
            "---  ------  --------------  -----  \n",
            " 0   Date    1511 non-null   object \n",
            " 1   Open    1511 non-null   float64\n",
            " 2   High    1511 non-null   float64\n",
            " 3   Low     1511 non-null   float64\n",
            " 4   Close   1511 non-null   float64\n",
            " 5   Volume  1511 non-null   int64  \n",
            "dtypes: float64(4), int64(1), object(1)\n",
            "memory usage: 71.0+ KB\n"
          ]
        }
      ]
    },
    {
      "cell_type": "code",
      "metadata": {
        "colab": {
          "base_uri": "https://localhost:8080/",
          "height": 423
        },
        "id": "antjnJS-jyxv",
        "outputId": "d79e2a2a-c2f6-4f07-c088-a77e107f693f"
      },
      "source": [
        "df"
      ],
      "execution_count": 5,
      "outputs": [
        {
          "output_type": "execute_result",
          "data": {
            "text/html": [
              "<div>\n",
              "<style scoped>\n",
              "    .dataframe tbody tr th:only-of-type {\n",
              "        vertical-align: middle;\n",
              "    }\n",
              "\n",
              "    .dataframe tbody tr th {\n",
              "        vertical-align: top;\n",
              "    }\n",
              "\n",
              "    .dataframe thead th {\n",
              "        text-align: right;\n",
              "    }\n",
              "</style>\n",
              "<table border=\"1\" class=\"dataframe\">\n",
              "  <thead>\n",
              "    <tr style=\"text-align: right;\">\n",
              "      <th></th>\n",
              "      <th>Date</th>\n",
              "      <th>Open</th>\n",
              "      <th>High</th>\n",
              "      <th>Low</th>\n",
              "      <th>Close</th>\n",
              "      <th>Volume</th>\n",
              "    </tr>\n",
              "  </thead>\n",
              "  <tbody>\n",
              "    <tr>\n",
              "      <th>0</th>\n",
              "      <td>4/1/2015 16:00:00</td>\n",
              "      <td>40.60</td>\n",
              "      <td>40.76</td>\n",
              "      <td>40.31</td>\n",
              "      <td>40.72</td>\n",
              "      <td>36865322</td>\n",
              "    </tr>\n",
              "    <tr>\n",
              "      <th>1</th>\n",
              "      <td>4/2/2015 16:00:00</td>\n",
              "      <td>40.66</td>\n",
              "      <td>40.74</td>\n",
              "      <td>40.12</td>\n",
              "      <td>40.29</td>\n",
              "      <td>37487476</td>\n",
              "    </tr>\n",
              "    <tr>\n",
              "      <th>2</th>\n",
              "      <td>4/6/2015 16:00:00</td>\n",
              "      <td>40.34</td>\n",
              "      <td>41.78</td>\n",
              "      <td>40.18</td>\n",
              "      <td>41.55</td>\n",
              "      <td>39223692</td>\n",
              "    </tr>\n",
              "    <tr>\n",
              "      <th>3</th>\n",
              "      <td>4/7/2015 16:00:00</td>\n",
              "      <td>41.61</td>\n",
              "      <td>41.91</td>\n",
              "      <td>41.31</td>\n",
              "      <td>41.53</td>\n",
              "      <td>28809375</td>\n",
              "    </tr>\n",
              "    <tr>\n",
              "      <th>4</th>\n",
              "      <td>4/8/2015 16:00:00</td>\n",
              "      <td>41.48</td>\n",
              "      <td>41.69</td>\n",
              "      <td>41.04</td>\n",
              "      <td>41.42</td>\n",
              "      <td>24753438</td>\n",
              "    </tr>\n",
              "    <tr>\n",
              "      <th>...</th>\n",
              "      <td>...</td>\n",
              "      <td>...</td>\n",
              "      <td>...</td>\n",
              "      <td>...</td>\n",
              "      <td>...</td>\n",
              "      <td>...</td>\n",
              "    </tr>\n",
              "    <tr>\n",
              "      <th>1506</th>\n",
              "      <td>3/25/2021 16:00:00</td>\n",
              "      <td>235.30</td>\n",
              "      <td>236.94</td>\n",
              "      <td>231.57</td>\n",
              "      <td>232.34</td>\n",
              "      <td>34061853</td>\n",
              "    </tr>\n",
              "    <tr>\n",
              "      <th>1507</th>\n",
              "      <td>3/26/2021 16:00:00</td>\n",
              "      <td>231.55</td>\n",
              "      <td>236.71</td>\n",
              "      <td>231.55</td>\n",
              "      <td>236.48</td>\n",
              "      <td>25479853</td>\n",
              "    </tr>\n",
              "    <tr>\n",
              "      <th>1508</th>\n",
              "      <td>3/29/2021 16:00:00</td>\n",
              "      <td>236.59</td>\n",
              "      <td>236.80</td>\n",
              "      <td>231.88</td>\n",
              "      <td>235.24</td>\n",
              "      <td>25227455</td>\n",
              "    </tr>\n",
              "    <tr>\n",
              "      <th>1509</th>\n",
              "      <td>3/30/2021 16:00:00</td>\n",
              "      <td>233.53</td>\n",
              "      <td>233.85</td>\n",
              "      <td>231.10</td>\n",
              "      <td>231.85</td>\n",
              "      <td>24792012</td>\n",
              "    </tr>\n",
              "    <tr>\n",
              "      <th>1510</th>\n",
              "      <td>3/31/2021 16:00:00</td>\n",
              "      <td>232.91</td>\n",
              "      <td>239.10</td>\n",
              "      <td>232.39</td>\n",
              "      <td>235.77</td>\n",
              "      <td>43623471</td>\n",
              "    </tr>\n",
              "  </tbody>\n",
              "</table>\n",
              "<p>1511 rows × 6 columns</p>\n",
              "</div>"
            ],
            "text/plain": [
              "                    Date    Open    High     Low   Close    Volume\n",
              "0      4/1/2015 16:00:00   40.60   40.76   40.31   40.72  36865322\n",
              "1      4/2/2015 16:00:00   40.66   40.74   40.12   40.29  37487476\n",
              "2      4/6/2015 16:00:00   40.34   41.78   40.18   41.55  39223692\n",
              "3      4/7/2015 16:00:00   41.61   41.91   41.31   41.53  28809375\n",
              "4      4/8/2015 16:00:00   41.48   41.69   41.04   41.42  24753438\n",
              "...                  ...     ...     ...     ...     ...       ...\n",
              "1506  3/25/2021 16:00:00  235.30  236.94  231.57  232.34  34061853\n",
              "1507  3/26/2021 16:00:00  231.55  236.71  231.55  236.48  25479853\n",
              "1508  3/29/2021 16:00:00  236.59  236.80  231.88  235.24  25227455\n",
              "1509  3/30/2021 16:00:00  233.53  233.85  231.10  231.85  24792012\n",
              "1510  3/31/2021 16:00:00  232.91  239.10  232.39  235.77  43623471\n",
              "\n",
              "[1511 rows x 6 columns]"
            ]
          },
          "metadata": {},
          "execution_count": 5
        }
      ]
    },
    {
      "cell_type": "markdown",
      "metadata": {
        "id": "EOakZA5Uob38"
      },
      "source": [
        "# Перше завдання"
      ]
    },
    {
      "cell_type": "markdown",
      "metadata": {
        "id": "mB1lIfcVo0Ec"
      },
      "source": [
        "# Друге завдання\n"
      ]
    },
    {
      "cell_type": "markdown",
      "metadata": {
        "id": "7kTCMlLeyr0x"
      },
      "source": [
        "# Третє завдання"
      ]
    },
    {
      "cell_type": "markdown",
      "metadata": {
        "id": "MslEOBfLh-qC"
      },
      "source": [
        "# Четверте завдання"
      ]
    }
  ]
}